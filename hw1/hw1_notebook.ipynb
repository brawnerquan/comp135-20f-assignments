{
 "cells": [
  {
   "cell_type": "markdown",
   "metadata": {},
   "source": [
    "# HW1 : Regression, Cross-Validation, and  Regularization"
   ]
  },
  {
   "cell_type": "code",
   "execution_count": 3,
   "metadata": {},
   "outputs": [],
   "source": [
    "import os\n",
    "import numpy as np\n",
    "import warnings\n",
    "\n",
    "import sklearn.preprocessing\n",
    "import sklearn.pipeline\n",
    "import sklearn.linear_model\n",
    "import sklearn.neighbors\n",
    "import sklearn.model_selection\n"
   ]
  },
  {
   "cell_type": "code",
   "execution_count": 4,
   "metadata": {},
   "outputs": [],
   "source": [
    "from matplotlib import pyplot as plt\n",
    "%matplotlib inline\n",
    "\n",
    "import seaborn as sns\n",
    "sns.set('notebook', font_scale=1.25, style='whitegrid')"
   ]
  },
  {
   "cell_type": "markdown",
   "metadata": {},
   "source": [
    "# Set random seed to make all computations reproducible"
   ]
  },
  {
   "cell_type": "code",
   "execution_count": 5,
   "metadata": {},
   "outputs": [],
   "source": [
    "SEED = 12345"
   ]
  },
  {
   "cell_type": "markdown",
   "metadata": {},
   "source": [
    "# Load the dataset\n",
    "\n",
    "Predefined 'x' and 'y' arrays for train/valid/test"
   ]
  },
  {
   "cell_type": "code",
   "execution_count": 6,
   "metadata": {},
   "outputs": [],
   "source": [
    "DATA_DIR = 'data_auto'"
   ]
  },
  {
   "cell_type": "code",
   "execution_count": 7,
   "metadata": {},
   "outputs": [],
   "source": [
    "x_tr_MF = np.loadtxt(os.path.join(DATA_DIR, 'x_train.csv'), delimiter=',', skiprows=1)\n",
    "x_va_NF = np.loadtxt(os.path.join(DATA_DIR, 'x_valid.csv'), delimiter=',', skiprows=1)\n",
    "x_te_PF = np.loadtxt(os.path.join(DATA_DIR, 'x_test.csv'), delimiter=',', skiprows=1)"
   ]
  },
  {
   "cell_type": "code",
   "execution_count": 8,
   "metadata": {},
   "outputs": [],
   "source": [
    "y_tr_M = np.loadtxt(os.path.join(DATA_DIR, 'y_train.csv'), delimiter=',', skiprows=1)\n",
    "y_va_N = np.loadtxt(os.path.join(DATA_DIR, 'y_valid.csv'), delimiter=',', skiprows=1)\n",
    "y_te_P = np.loadtxt(os.path.join(DATA_DIR, 'y_test.csv'), delimiter=',', skiprows=1)"
   ]
  },
  {
   "cell_type": "markdown",
   "metadata": {},
   "source": [
    "# Load completed code"
   ]
  },
  {
   "cell_type": "code",
   "execution_count": 9,
   "metadata": {},
   "outputs": [],
   "source": [
    "from cross_validation import train_models_and_calc_scores_for_n_fold_cv\n",
    "from performance_metrics import calc_mean_squared_error"
   ]
  },
  {
   "cell_type": "markdown",
   "metadata": {},
   "source": [
    "# Define useful plotting functions"
   ]
  },
  {
   "cell_type": "code",
   "execution_count": 10,
   "metadata": {},
   "outputs": [],
   "source": [
    "def plot_train_and_valid_error_vs_degree(\n",
    "        degree_list, err_tr_list=None, err_va_list=None):\n",
    "    ''' Plot provided errors versus degrees on a new figure\n",
    "    '''\n",
    "    if err_va_list is not None:\n",
    "        plt.plot(degree_list, err_va_list, 'rs-', label='valid');\n",
    "    if err_tr_list is not None:\n",
    "        plt.plot(degree_list, err_tr_list, 'bd:', label='train');\n",
    "    plt.ylim([0, 74]); # Do NOT change this! Helps all reports look the same.\n",
    "    plt.legend(loc='upper right'); # Always include a legend"
   ]
  },
  {
   "cell_type": "markdown",
   "metadata": {},
   "source": [
    "# Define methods for building pipelines\n",
    "\n",
    "Remember, we discussed pipelines in the lab from day04 on \"Feature Engineering\""
   ]
  },
  {
   "cell_type": "code",
   "execution_count": 11,
   "metadata": {},
   "outputs": [],
   "source": [
    "def make_poly_linear_regr_pipeline(degree=1):\n",
    "    pipeline = sklearn.pipeline.Pipeline(\n",
    "        steps=[\n",
    "         ('rescaler', sklearn.preprocessing.MinMaxScaler()),\n",
    "         ('poly_transformer', sklearn.preprocessing.PolynomialFeatures(degree=degree, include_bias=False)),\n",
    "         ('linear_regr', sklearn.linear_model.LinearRegression()),\n",
    "        ])\n",
    "\n",
    "    # Return the constructed pipeline\n",
    "    # We can treat it as if it has a 'regression' API\n",
    "    # e.g. a fit and a predict method\n",
    "    return pipeline"
   ]
  },
  {
   "cell_type": "code",
   "execution_count": 12,
   "metadata": {},
   "outputs": [],
   "source": [
    "def make_poly_ridge_regr_pipeline(degree=1, alpha=1.0):\n",
    "    pipeline = sklearn.pipeline.Pipeline(\n",
    "        steps=[\n",
    "         ('rescaler', sklearn.preprocessing.MinMaxScaler()),\n",
    "         ('poly_transformer', sklearn.preprocessing.PolynomialFeatures(degree=degree, include_bias=False)),\n",
    "         ('ridge_regr', sklearn.linear_model.Ridge(alpha=alpha)),\n",
    "        ])\n",
    "    \n",
    "    # Return the constructed pipeline\n",
    "    # We can treat it as if it has a 'regression' API\n",
    "    # e.g. a fit and a predict method\n",
    "    return pipeline"
   ]
  },
  {
   "cell_type": "markdown",
   "metadata": {},
   "source": [
    "# Problem 1: Polynomial Degree Selection on Fixed Validation Set"
   ]
  },
  {
   "cell_type": "code",
   "execution_count": 13,
   "metadata": {},
   "outputs": [],
   "source": [
    "degree_list = [1, 2, 3, 4, 5, 6, 7]\n",
    "fv_err_tr_list = []\n",
    "fv_err_va_list = []\n",
    "\n",
    "pipeline_list = []\n",
    "for degree in degree_list:\n",
    "\n",
    "    # TODO create a pipeline using features with current degree value\n",
    "    pipeline_1 = make_poly_linear_regr_pipeline(degree)\n",
    "    \n",
    "\n",
    "    # TODO train this pipeline on provided training data\n",
    "    pipeline_1.fit(x_tr_MF, y_tr_M)\n",
    "    \n",
    "    # Compute training error\n",
    "    \n",
    "    yhat_tr_M = pipeline_1.predict(x_tr_MF)  # TODO fixme\n",
    "    err_tr = calc_mean_squared_error(y_tr_M, yhat_tr_M) # TODO fixme\n",
    "    \n",
    "    # Compute validation error\n",
    "    yhat_va_N = pipeline_1.predict(x_va_NF)  # TODO fixme\n",
    "    err_va = calc_mean_squared_error(y_va_N, yhat_va_N) # TODO fixme\n",
    "\n",
    "    fv_err_tr_list.append(err_tr)\n",
    "    fv_err_va_list.append(err_va)"
   ]
  },
  {
   "cell_type": "markdown",
   "metadata": {},
   "source": [
    "### Figure 1: Error vs degree"
   ]
  },
  {
   "cell_type": "code",
   "execution_count": 14,
   "metadata": {},
   "outputs": [
    {
     "data": {
      "image/png": "[encoded data removed]",
      "text/plain": [
       "<Figure size 432x288 with 1 Axes>"
      ]
     },
     "metadata": {},
     "output_type": "display_data"
    }
   ],
   "source": [
    "plot_train_and_valid_error_vs_degree(degree_list, fv_err_tr_list, fv_err_va_list);\n",
    "plt.title('Model Selection with Fixed Validation Set: Error vs. Degree');\n",
    "plt.savefig('figure1-err_vs_degree-fv.pdf')"
   ]
  },
  {
   "cell_type": "markdown",
   "metadata": {},
   "source": [
    "### Prediction 1: Score on the test set using the chosen model"
   ]
  },
  {
   "cell_type": "code",
   "execution_count": 17,
   "metadata": {},
   "outputs": [
    {
     "name": "stdout",
     "output_type": "stream",
     "text": [
      "intercept:  12901018868.880665\n",
      "min:  -9693867535991.963\n",
      "max:  5546360787986.932\n"
     ]
    }
   ],
   "source": [
    "#score on test set using degree 2 as the chosen model\n",
    "pipeline_1 = make_poly_linear_regr_pipeline(degree=2)\n",
    "pipeline_1.fit(x_tr_MF, y_tr_M)\n",
    "yhat_test_P = pipeline_1.predict(x_te_PF)  # TODO fixme\n",
    "err_test = calc_mean_squared_error(y_te_P, yhat_test_P) # TODO fixme\n",
    "\n",
    "#printint out intercept coefficent and min and max weights\n",
    "pipeline_degree6 = make_poly_linear_regr_pipeline(degree=6)\n",
    "pipeline_degree6.fit(x_tr_MF, y_tr_M)\n",
    "print(\"intercept: \", pipeline_degree6.named_steps[\"linear_regr\"].intercept_)\n",
    "print(\"min: \", min(pipeline_degree6.named_steps[\"linear_regr\"].coef_))\n",
    "print(\"max: \", max(pipeline_degree6.named_steps[\"linear_regr\"].coef_))"
   ]
  },
  {
   "cell_type": "code",
   "execution_count": 18,
   "metadata": {},
   "outputs": [
    {
     "name": "stdout",
     "output_type": "stream",
     "text": [
      "Selected Parameters:\n",
      "Degree 2\n",
      "Fixed validation set estimate of heldout error:\n",
      "15.793274734511765\n",
      "Error on the test-set:\n",
      "15.932092578370812\n",
      "RMSE:  3.9915025464567617\n"
     ]
    }
   ],
   "source": [
    "print(\"Selected Parameters:\")\n",
    "print(\"Degree 2\")\n",
    "print(\"Fixed validation set estimate of heldout error:\")\n",
    "print(fv_err_va_list[1])\n",
    "print(\"Error on the test-set:\")\n",
    "print(err_test)\n",
    "rmse = np.sqrt(err_test)\n",
    "print(\"RMSE: \", rmse)"
   ]
  },
  {
   "cell_type": "markdown",
   "metadata": {},
   "source": [
    "# Problem 2: Cross Validation for Polynomial Feature Regression"
   ]
  },
  {
   "cell_type": "code",
   "execution_count": 19,
   "metadata": {},
   "outputs": [],
   "source": [
    "x_trva_LF = np.concatenate((x_tr_MF, x_va_NF))  # TODO fix concat your train and validation set x values\n",
    "\n",
    "y_trva_L = np.concatenate((y_tr_M, y_va_N))   # TODO fix concat your train and validation set y values\n"
   ]
  },
  {
   "cell_type": "code",
   "execution_count": 20,
   "metadata": {},
   "outputs": [],
   "source": [
    "K = 10 # num folds\n",
    "\n",
    "degree_list = [1, 2, 3, 4, 5, 6, 7]\n",
    "cv_err_tr_list = []\n",
    "cv_err_va_list = []\n",
    "\n",
    "for degree in degree_list:\n",
    "\n",
    "    # TODO create a pipeline using features with current degree value\n",
    "    test_pipeline = make_poly_linear_regr_pipeline(degree)\n",
    "    # TODO call your function to train a separate model for each fold and return train and valid errors\n",
    "    # Don't forget to pass random_state = SEED (where SEED is defined above) so its reproducible\n",
    "    #  = train_models_and_calc_scores_for_n_fold_cv() # TODO\n",
    "\n",
    "    tr_error_K, valid_error_K = (train_models_and_calc_scores_for_n_fold_cv(test_pipeline, x_trva_LF, y_trva_L, K, np.random.RandomState(SEED)))\n",
    "    \n",
    "    err_tr = np.average(tr_error_K) # TODO fixme, compute average error across all train folds\n",
    "    err_va = np.average(valid_error_K) # TODO fixme, compute average error across all heldout folds\n",
    "\n",
    "    cv_err_tr_list.append(err_tr)\n",
    "    cv_err_va_list.append(err_va)"
   ]
  },
  {
   "cell_type": "markdown",
   "metadata": {},
   "source": [
    "### Figure 2: Error vs degree"
   ]
  },
  {
   "cell_type": "code",
   "execution_count": 21,
   "metadata": {
    "scrolled": true
   },
   "outputs": [
    {
     "data": {
      "image/png": "[encoded data removed]",
      "text/plain": [
       "<Figure size 432x288 with 1 Axes>"
      ]
     },
     "metadata": {},
     "output_type": "display_data"
    }
   ],
   "source": [
    "plot_train_and_valid_error_vs_degree(degree_list, cv_err_tr_list, cv_err_va_list)\n",
    "plt.title('Linear Regr. Model Selection with 10-fold Cross-Validation: Error vs. Degree');\n",
    "plt.savefig('figure2-err_vs_degree-cv-seed=%d.pdf' % SEED)"
   ]
  },
  {
   "cell_type": "markdown",
   "metadata": {},
   "source": [
    "### Prediction 2: Score on the test set using the chosen model\n",
    "\n",
    "Use the chosen hyperparameters, retrain ONE model on the FULL train+valid set.\n",
    "Then make predictions on the heldout test set."
   ]
  },
  {
   "cell_type": "code",
   "execution_count": 22,
   "metadata": {},
   "outputs": [],
   "source": [
    "# TODO compute score on test set for later\n",
    "\n",
    "pipeline_2 = make_poly_linear_regr_pipeline(2)\n",
    "pipeline_2.fit(x_trva_LF, y_trva_L)\n",
    "yhat_test_poly = pipeline_2.predict(x_te_PF)\n",
    "err_test = calc_mean_squared_error(y_te_P, yhat_test_poly)\n"
   ]
  },
  {
   "cell_type": "code",
   "execution_count": 23,
   "metadata": {},
   "outputs": [
    {
     "name": "stdout",
     "output_type": "stream",
     "text": [
      "Selected Parameters:\n",
      "Degree 2\n",
      "10-fold CV estimate of heldout error:\n",
      "16.099534697559545\n",
      "Error on the test-set:\n",
      "15.334679184359443\n",
      "RMSE:  3.9159518873907837\n"
     ]
    }
   ],
   "source": [
    "print(\"Selected Parameters:\")\n",
    "print(\"Degree 2\")\n",
    "print(\"10-fold CV estimate of heldout error:\")\n",
    "print(cv_err_va_list[1])\n",
    "print(\"Error on the test-set:\")\n",
    "print(err_test)\n",
    "\n",
    "rmse = np.sqrt(err_test)\n",
    "print(\"RMSE: \", rmse)"
   ]
  },
  {
   "cell_type": "markdown",
   "metadata": {},
   "source": [
    "# Problem 3: Cross Validation for Ridge Regression"
   ]
  },
  {
   "cell_type": "code",
   "execution_count": 32,
   "metadata": {},
   "outputs": [],
   "source": [
    "alpha_grid = np.logspace(-6, 6, 13) # 10^-6, 10^-5, 10^-4, ... 10^-1, 10^0, 10^1, ... 10^6\n",
    "\n",
    "degree_list = [1, 2, 3, 4, 5, 6, 7]\n",
    "\n",
    "K = 10 # num folds\n",
    "ridge_cv_err_tr_list = []\n",
    "ridge_cv_err_va_list = []\n",
    "\n",
    "ridge_param_list = list()\n",
    "\n",
    "for degree in degree_list:\n",
    "    for alpha in alpha_grid:\n",
    "        ridge_param_list.append(dict(alpha=alpha, degree=degree))\n",
    "        # TODO create a pipeline using features with current degree value\n",
    "        ridge_pipeline = make_poly_ridge_regr_pipeline(degree, alpha)\n",
    "        # TODO call your function to train a separate model for each fold and return train and valid errors\n",
    "        # Don't forget to pass random_state = SEED (where SEED is defined above) so its reproducible\n",
    "        tr_error_K, valid_error_K = train_models_and_calc_scores_for_n_fold_cv(ridge_pipeline, x_trva_LF, y_trva_L, K, np.random.RandomState(SEED)) # TODO\n",
    "    \n",
    "        err_tr = np.average(tr_error_K) # TODO fixme, compute average error across all train folds\n",
    "        err_va = np.average(valid_error_K) # TODO fixme, compute average error across all heldout folds\n",
    "    \n",
    "        ridge_cv_err_tr_list.append(err_tr)\n",
    "        ridge_cv_err_va_list.append(err_va)"
   ]
  },
  {
   "cell_type": "markdown",
   "metadata": {},
   "source": [
    "### Figure 3: Error vs degree at alpha = 10^-3, alpha = 1, alpha = 1000"
   ]
  },
  {
   "cell_type": "code",
   "execution_count": 33,
   "metadata": {
    "scrolled": true
   },
   "outputs": [
    {
     "data": {
      "image/png": "[encoded data removed]",
      "text/plain": [
       "<Figure size 1152x396 with 3 Axes>"
      ]
     },
     "metadata": {},
     "output_type": "display_data"
    }
   ],
   "source": [
    "fig, ax_grid = plt.subplots(nrows=1, ncols=3, sharex=True, sharey=True, figsize=(16, 5.5))\n",
    "\n",
    "for aa, alpha in enumerate([0.00001, 0.1, 1000.0]):\n",
    "    # Find the elements of the param list that correspond to setting alpha to specific value\n",
    "    match_ids = [pp for pp in range(len(ridge_param_list)) if np.allclose(alpha, ridge_param_list[pp]['alpha'])]\n",
    "    \n",
    "    train_err = np.asarray(ridge_cv_err_tr_list)[match_ids]\n",
    "    test_err = np.asarray(ridge_cv_err_va_list)[match_ids]\n",
    "    \n",
    "    \n",
    "    # Select which panel (of the 3 in figure) to be current active axis\n",
    "    cur_ax = ax_grid[aa]\n",
    "    plt.sca(cur_ax);\n",
    "    \n",
    "    # Set the title of the active axis\n",
    "    cur_ax.set_title('alpha = %.5g' % alpha)\n",
    "\n",
    "    # Draw line plot in active axis\n",
    "    plot_train_and_valid_error_vs_degree(degree_list, train_err, test_err)\n",
    "\n",
    "plt.suptitle('Ridge Model Selection with 10-fold Cross-Validation: Error vs. Degree');\n",
    "plt.savefig('figure3-3_panels_by_alpha-err_vs_degree-seed=%d.pdf' % SEED, pad_inches=0, bbox_inches='tight')"
   ]
  },
  {
   "cell_type": "markdown",
   "metadata": {},
   "source": [
    "### Prediction 3: Score on the test set using the chosen model\n"
   ]
  },
  {
   "cell_type": "code",
   "execution_count": 34,
   "metadata": {},
   "outputs": [
    {
     "name": "stdout",
     "output_type": "stream",
     "text": [
      "RMSE:  3.816826761080241\n"
     ]
    }
   ],
   "source": [
    "chosen_ridge_pipeline = make_poly_ridge_regr_pipeline(degree=7, alpha=0.1)\n",
    "chosen_ridge_pipeline.fit(x_trva_LF, y_trva_L)\n",
    "yhat_test_ridge = chosen_ridge_pipeline.predict(x_te_PF)\n",
    "err_test = calc_mean_squared_error(y_te_P, yhat_test_ridge) # TODO fixme\n",
    "rmse = np.sqrt(err_test)\n",
    "print(\"RMSE: \", rmse)\n"
   ]
  },
  {
   "cell_type": "code",
   "execution_count": 36,
   "metadata": {},
   "outputs": [
    {
     "name": "stdout",
     "output_type": "stream",
     "text": [
      "Selected Parameters (alpha and degree):\n",
      "Degree 7 and Alpha 0.1\n",
      "10-fold CV estimate of heldout error:\n",
      "15.374824651228412\n",
      "Error on the test-set:\n",
      "14.568166524098281\n"
     ]
    }
   ],
   "source": [
    "print(\"Selected Parameters (alpha and degree):\")\n",
    "print(\"Degree 7 and Alpha 0.1\")\n",
    "print(\"10-fold CV estimate of heldout error:\")\n",
    "print(np.asarray(ridge_cv_err_va_list)[83])\n",
    "print(\"Error on the test-set:\")\n",
    "print(err_test)"
   ]
  },
  {
   "cell_type": "code",
   "execution_count": 37,
   "metadata": {
    "scrolled": true
   },
   "outputs": [
    {
     "name": "stdout",
     "output_type": "stream",
     "text": [
      "RMSE:  7.104481090304907\n"
     ]
    }
   ],
   "source": [
    "#baseline RMSE \n",
    "#calc mean y value of train\n",
    "y_hat_mean = np.mean(y_tr_M)\n",
    "y_hat_base = np.full(y_te_P.shape[0], y_hat_mean)\n",
    "\n",
    "err_test = calc_mean_squared_error(y_te_P, y_hat_base) # TODO fixme\n",
    "rmse = np.sqrt(err_test)\n",
    "print(\"RMSE: \", rmse)"
   ]
  }
 ],
 "metadata": {
  "kernelspec": {
   "display_name": "Python 3",
   "language": "python",
   "name": "python3"
  },
  "language_info": {
   "codemirror_mode": {
    "name": "ipython",
    "version": 3
   },
   "file_extension": ".py",
   "mimetype": "text/x-python",
   "name": "python",
   "nbconvert_exporter": "python",
   "pygments_lexer": "ipython3",
   "version": "3.8.5"
  }
 },
 "nbformat": 4,
 "nbformat_minor": 4
}
