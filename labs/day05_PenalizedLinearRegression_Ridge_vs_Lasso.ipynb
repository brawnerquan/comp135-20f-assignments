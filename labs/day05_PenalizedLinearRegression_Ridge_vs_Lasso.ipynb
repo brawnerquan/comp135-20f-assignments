{
 "cells": [
  {
   "cell_type": "markdown",
   "metadata": {},
   "source": [
    "# day05 : Penalized Linear Regression : Ridge (L2) vs Lasso (L1)"
   ]
  },
  {
   "cell_type": "markdown",
   "metadata": {},
   "source": [
    "# Objectives\n",
    "\n",
    "* Learn how to avoid overfitting by including an L2-penalty on weight coefficients in training loss\n",
    "* * Known as \"Ridge\" regression\n",
    "* Learn how to avoid overfitting by including an L1-penalty on weight coefficients\n",
    "* * Known as \"Lasso\" regression\n",
    "\n",
    "# Outline\n",
    "* [Part 1: Ridge Regression](#part1)\n",
    "* [Part 2: MinMaxScalar](#part2)\n",
    "* [Part 3: Lasso Regression](#part3)\n",
    "\n",
    "# Takeaways\n",
    "\n",
    "* In practice, be sure to *rescale* features to common range before using Ridge or Lasso\n",
    "* Ridge is simple to use and simple to train\n",
    "* Lasso can be better for *feature selection*, where we want to know which subset of provided features are useful for prediction (and which could be omitted because their weights are set to exactly zero)\n",
    "* Lasso is more tricky to train (don't write yourself!) but good libraries like sklearn make it easy\n"
   ]
  },
  {
   "cell_type": "code",
   "execution_count": 1,
   "metadata": {},
   "outputs": [],
   "source": [
    "import numpy as np\n",
    "\n",
    "# Import the pandas (data management library)\n",
    "import pandas as pd"
   ]
  },
  {
   "cell_type": "code",
   "execution_count": 3,
   "metadata": {},
   "outputs": [],
   "source": [
    "# import plotting libraries\n",
    "import matplotlib\n",
    "import matplotlib.pyplot as plt\n",
    "\n",
    "%matplotlib inline\n",
    "plt.style.use('seaborn') # pretty matplotlib plots\n",
    "\n",
    "import seaborn as sns\n",
    "sns.set('notebook', font_scale=1.25, style='whitegrid')"
   ]
  },
  {
   "cell_type": "code",
   "execution_count": 4,
   "metadata": {},
   "outputs": [],
   "source": [
    "import sklearn.linear_model\n",
    "import sklearn.preprocessing\n",
    "import sklearn.pipeline\n",
    "import sklearn.metrics"
   ]
  },
  {
   "cell_type": "markdown",
   "metadata": {},
   "source": [
    "# Step 1: Simple sine-wave dataset"
   ]
  },
  {
   "cell_type": "code",
   "execution_count": 5,
   "metadata": {},
   "outputs": [],
   "source": [
    "SEED = 12345\n",
    "prng = np.random.RandomState(SEED)"
   ]
  },
  {
   "cell_type": "code",
   "execution_count": 6,
   "metadata": {},
   "outputs": [],
   "source": [
    "def true_prediction_function(x):\n",
    "    return 3.0 + 2.0 * np.sin(2.1 * x)"
   ]
  },
  {
   "cell_type": "code",
   "execution_count": 7,
   "metadata": {},
   "outputs": [],
   "source": [
    "N = 9        # num training examples\n",
    "\n",
    "x_N = np.linspace(-3, 3, N) + 0.3 * prng.randn(N)\n",
    "y_N = true_prediction_function(x_N) + 0.06 * prng.randn(N)"
   ]
  },
  {
   "cell_type": "code",
   "execution_count": 8,
   "metadata": {},
   "outputs": [],
   "source": [
    "M = 500      # num testing examples (to show \"true\" generalization)\n",
    "\n",
    "x_te_M = np.linspace(-4, 4, M)\n",
    "y_te_M = true_prediction_function(x_te_M) + 0.06 * prng.randn(M)"
   ]
  },
  {
   "cell_type": "code",
   "execution_count": 9,
   "metadata": {},
   "outputs": [
    {
     "data": {
      "image/png": "[encoded data removed]",
      "text/plain": [
       "<Figure size 576x396 with 1 Axes>"
      ]
     },
     "metadata": {},
     "output_type": "display_data"
    }
   ],
   "source": [
    "plt.plot(x_te_M, y_te_M, 'r.', label='test set')\n",
    "plt.plot(x_N, y_N, 'bs', markersize=10, label='training set')\n",
    "\n",
    "plt.legend(loc='upper right');\n",
    "plt.ylim([0, 6.0]);"
   ]
  },
  {
   "cell_type": "code",
   "execution_count": 10,
   "metadata": {},
   "outputs": [],
   "source": [
    "x_N1 = x_N.reshape((N,1))\n",
    "x_te_M1 = x_te_M.reshape((M,1))"
   ]
  },
  {
   "cell_type": "code",
   "execution_count": 11,
   "metadata": {},
   "outputs": [],
   "source": [
    "def pretty_print_weights(pipeline):\n",
    "    feature_names = pipeline.named_steps['preproc'].get_feature_names(['x'])\n",
    "    for ff in range(len(feature_names)):\n",
    "        coef_val_ff = pipeline.named_steps['regr'].coef_[ff]\n",
    "        if np.allclose(coef_val_ff, 0):\n",
    "            coef_str = \"   0 exactly\"\n",
    "        else:\n",
    "            coef_str = \"% 8.3f\" % coef_val_ff\n",
    "        print(\"Feature %5s: weight coef %s\" % (feature_names[ff], coef_str))\n",
    "            \n",
    "    print(\"Intercept    : weight coef % 8.3f\" % (pipeline.named_steps['regr'].intercept_))"
   ]
  },
  {
   "cell_type": "markdown",
   "metadata": {},
   "source": [
    "# Part 1: Comparing Ridge regression to unpenalized LinearRegression"
   ]
  },
  {
   "cell_type": "code",
   "execution_count": 12,
   "metadata": {},
   "outputs": [],
   "source": [
    "lin_regr_pipeline = sklearn.pipeline.Pipeline([\n",
    "        (\"preproc\", sklearn.preprocessing.PolynomialFeatures(10, include_bias=False)),\n",
    "        (\"regr\", sklearn.linear_model.LinearRegression()),\n",
    "        ])"
   ]
  },
  {
   "cell_type": "code",
   "execution_count": 13,
   "metadata": {},
   "outputs": [],
   "source": [
    "lin_regr_pipeline.fit(x_N1, y_N);"
   ]
  },
  {
   "cell_type": "code",
   "execution_count": 14,
   "metadata": {},
   "outputs": [
    {
     "name": "stdout",
     "output_type": "stream",
     "text": [
      "Training set error:  0.000\n"
     ]
    }
   ],
   "source": [
    "yhat_N = lin_regr_pipeline.predict(x_N1)\n",
    "print(\"Training set error: % .3f\" % (sklearn.metrics.mean_squared_error(yhat_N, y_N)))"
   ]
  },
  {
   "cell_type": "code",
   "execution_count": 15,
   "metadata": {},
   "outputs": [
    {
     "name": "stdout",
     "output_type": "stream",
     "text": [
      "Feature     x: weight coef    2.396\n",
      "Feature   x^2: weight coef   -0.894\n",
      "Feature   x^3: weight coef    0.309\n",
      "Feature   x^4: weight coef   -0.443\n",
      "Feature   x^5: weight coef   -1.073\n",
      "Feature   x^6: weight coef    0.483\n",
      "Feature   x^7: weight coef    0.261\n",
      "Feature   x^8: weight coef   -0.107\n",
      "Feature   x^9: weight coef   -0.016\n",
      "Feature  x^10: weight coef    0.007\n",
      "Intercept    : weight coef    3.844\n"
     ]
    }
   ],
   "source": [
    "pretty_print_weights(lin_regr_pipeline)"
   ]
  },
  {
   "cell_type": "markdown",
   "metadata": {},
   "source": [
    "#### Try Ridge with SMALL alpha = 0.01"
   ]
  },
  {
   "cell_type": "code",
   "execution_count": 16,
   "metadata": {},
   "outputs": [],
   "source": [
    "ridge_small_alpha_pipeline = sklearn.pipeline.Pipeline([\n",
    "        (\"preproc\", sklearn.preprocessing.PolynomialFeatures(10, include_bias=False)),\n",
    "        (\"regr\", sklearn.linear_model.Ridge(alpha=0.01)),   # <<< LOOK, Ridge regression with alpha = 0.01\n",
    "        ])"
   ]
  },
  {
   "cell_type": "code",
   "execution_count": 17,
   "metadata": {},
   "outputs": [],
   "source": [
    "ridge_small_alpha_pipeline.fit(x_N1, y_N);"
   ]
  },
  {
   "cell_type": "code",
   "execution_count": 18,
   "metadata": {},
   "outputs": [
    {
     "name": "stdout",
     "output_type": "stream",
     "text": [
      "Training set error:  0.000\n"
     ]
    }
   ],
   "source": [
    "yhat_N = ridge_small_alpha_pipeline.predict(x_N1)\n",
    "print(\"Training set error: % .3f\" % (sklearn.metrics.mean_squared_error(yhat_N, y_N)))"
   ]
  },
  {
   "cell_type": "code",
   "execution_count": 19,
   "metadata": {},
   "outputs": [
    {
     "name": "stdout",
     "output_type": "stream",
     "text": [
      "Feature     x: weight coef    2.371\n",
      "Feature   x^2: weight coef   -0.862\n",
      "Feature   x^3: weight coef    0.315\n",
      "Feature   x^4: weight coef   -0.425\n",
      "Feature   x^5: weight coef   -1.067\n",
      "Feature   x^6: weight coef    0.462\n",
      "Feature   x^7: weight coef    0.259\n",
      "Feature   x^8: weight coef   -0.103\n",
      "Feature   x^9: weight coef   -0.016\n",
      "Feature  x^10: weight coef    0.006\n",
      "Intercept    : weight coef    3.821\n"
     ]
    }
   ],
   "source": [
    "pretty_print_weights(ridge_small_alpha_pipeline)"
   ]
  },
  {
   "cell_type": "markdown",
   "metadata": {},
   "source": [
    "### Discussion 1a: How do these new weight values compare to the previous unpenalized model?\n",
    "\n",
    "Are they similar? Smaller magnitude? Bigger magnitude?"
   ]
  },
  {
   "cell_type": "markdown",
   "metadata": {},
   "source": [
    "TODO write your answer here"
   ]
  },
  {
   "cell_type": "markdown",
   "metadata": {},
   "source": [
    "TODO write code here to count how many of the weights have a larger absolute value with alpha = 0.0 "
   ]
  },
  {
   "cell_type": "markdown",
   "metadata": {},
   "source": [
    "### Try Ridge with BIG alpha = 1000.0"
   ]
  },
  {
   "cell_type": "code",
   "execution_count": 35,
   "metadata": {},
   "outputs": [],
   "source": [
    "ridge_big_alpha_pipeline = sklearn.pipeline.Pipeline([\n",
    "        (\"preproc\", sklearn.preprocessing.PolynomialFeatures(9, include_bias=False)),\n",
    "        (\"regr\", sklearn.linear_model.Ridge(alpha=1000.0)),  # <<< LOOK, Ridge regression with alpha = 1000\n",
    "        ])"
   ]
  },
  {
   "cell_type": "code",
   "execution_count": 36,
   "metadata": {},
   "outputs": [],
   "source": [
    "ridge_big_alpha_pipeline.fit(x_N1, y_N);"
   ]
  },
  {
   "cell_type": "code",
   "execution_count": 37,
   "metadata": {},
   "outputs": [
    {
     "name": "stdout",
     "output_type": "stream",
     "text": [
      "Training set error:  0.942\n"
     ]
    }
   ],
   "source": [
    "yhat_N = ridge_big_alpha_pipeline.predict(x_N1)\n",
    "print(\"Training set error: % .3f\" % (sklearn.metrics.mean_squared_error(yhat_N, y_N)))"
   ]
  },
  {
   "cell_type": "code",
   "execution_count": 38,
   "metadata": {},
   "outputs": [
    {
     "name": "stdout",
     "output_type": "stream",
     "text": [
      "Feature     x: weight coef    0.004\n",
      "Feature   x^2: weight coef   -0.000\n",
      "Feature   x^3: weight coef    0.002\n",
      "Feature   x^4: weight coef    0.000\n",
      "Feature   x^5: weight coef   -0.002\n",
      "Feature   x^6: weight coef    0.002\n",
      "Feature   x^7: weight coef   -0.014\n",
      "Feature   x^8: weight coef   -0.000\n",
      "Feature   x^9: weight coef    0.001\n",
      "Intercept    : weight coef    3.377\n"
     ]
    }
   ],
   "source": [
    "pretty_print_weights(ridge_big_alpha_pipeline)"
   ]
  },
  {
   "cell_type": "markdown",
   "metadata": {},
   "source": [
    "### Exercise 1b: Try Ridge with HUGE alpha = 100000.0\n",
    "\n",
    "Can you predict what will happen to the learned weights? What about the learned intercept?"
   ]
  },
  {
   "cell_type": "code",
   "execution_count": 25,
   "metadata": {},
   "outputs": [],
   "source": [
    "# TODO write code here"
   ]
  },
  {
   "cell_type": "markdown",
   "metadata": {},
   "source": [
    "### Discussion 1c: Why does the intercept behave the way it does here?"
   ]
  },
  {
   "cell_type": "code",
   "execution_count": 24,
   "metadata": {},
   "outputs": [],
   "source": [
    "# TODO write explanation here"
   ]
  },
  {
   "cell_type": "markdown",
   "metadata": {},
   "source": [
    "### Exercise 1d: Why do we set `include_bias=False` in these pipelines? What happens otherwise?"
   ]
  },
  {
   "cell_type": "code",
   "execution_count": 25,
   "metadata": {},
   "outputs": [],
   "source": [
    "# TODO write code here"
   ]
  },
  {
   "cell_type": "markdown",
   "metadata": {},
   "source": [
    "### Exercise 1d: Can you plot the predictions on the test set for the pipelines above?\n",
    "\n",
    "Does the small alpha result still essentially perfectly reconstruct the training data?\n",
    "\n",
    "What about the big alpha value? The HUGE alpha value?"
   ]
  },
  {
   "cell_type": "code",
   "execution_count": 51,
   "metadata": {},
   "outputs": [
    {
     "data": {
      "image/png": "[encoded data removed]",
      "text/plain": [
       "<Figure size 576x396 with 1 Axes>"
      ]
     },
     "metadata": {},
     "output_type": "display_data"
    }
   ],
   "source": [
    "plt.plot(x_N, y_N, 'bs', markersize=10, label='train set')\n",
    "plt.plot(x_te_M, y_te_M, 'r.', label='test set (true function)')\n",
    "\n",
    "\n",
    "plt.plot(x_te_M, lin_regr_pipeline.predict(x_te_M1), 'm-', label='alpha = 0 (unpenalized LR)')\n",
    "plt.plot(x_te_M, ridge_small_alpha_pipeline.predict(x_te_M1), 'c-', label='alpha = 0.01')   # TODO fix this line\n",
    "plt.plot(x_te_M, ridge_big_alpha_pipeline.predict(x_te_M1), 'b-', label='alpha = 100') # TODO fix this line\n",
    "\n",
    "plt.legend(bbox_to_anchor=(1.0, 0.5));\n",
    "plt.ylim([0, 7]);\n"
   ]
  },
  {
   "cell_type": "markdown",
   "metadata": {},
   "source": [
    "# Part 2: Rescaling  "
   ]
  },
  {
   "cell_type": "markdown",
   "metadata": {},
   "source": [
    "What is happening inside our regression pipeline?\n",
    "\n",
    "Let's look at the feature transformation to find out.\n",
    "\n",
    "Remember, we are putting in a scalar $x$\n",
    "\n",
    "Our high-degree polynomial features are producing features\n",
    "\n",
    "$\\phi(x) = [x ~~ x^2 ~~ x^3 ~~ \\ldots x^9 ]$\n",
    "\n",
    "Can we visualize these?"
   ]
  },
  {
   "cell_type": "code",
   "execution_count": 52,
   "metadata": {},
   "outputs": [
    {
     "name": "stdout",
     "output_type": "stream",
     "text": [
      "============= Displaying transformed features of Polynomial Features + Ridge pipeline\n",
      "Raw features:\n",
      "[[-3.06]\n",
      " [-2.11]\n",
      " [-1.66]\n",
      " [-0.92]\n",
      " [ 0.59]\n",
      " [ 1.17]\n",
      " [ 1.53]\n",
      " [ 2.33]\n",
      " [ 3.23]]\n",
      "After step 1: new shape is (9, 9)\n",
      "[[    -3.06      9.37    -28.69     87.84   -268.91    823.25  -2520.3    7715.69 -23620.9 ]\n",
      " [    -2.11      4.44     -9.34     19.68    -41.46     87.33   -183.94    387.43   -816.04]\n",
      " [    -1.66      2.74     -4.54      7.52    -12.45     20.61    -34.13     56.51    -93.57]\n",
      " [    -0.92      0.84     -0.77      0.71     -0.65      0.59     -0.54      0.5      -0.46]\n",
      " [     0.59      0.35      0.21      0.12      0.07      0.04      0.02      0.01      0.01]\n",
      " [     1.17      1.36      1.59      1.86      2.17      2.54      2.97      3.46      4.05]\n",
      " [     1.53      2.33      3.57      5.45      8.33     12.72     19.44     29.7      45.37]\n",
      " [     2.33      5.45     12.72     29.7      69.34    161.88    377.91    882.24   2059.61]\n",
      " [     3.23     10.44     33.72    108.94    351.96   1137.06   3673.52  11868.08  38342.27]]\n"
     ]
    }
   ],
   "source": [
    "np.set_printoptions(precision=2, suppress=True, linewidth=100)\n",
    "\n",
    "print(\"============= Displaying transformed features of Polynomial Features + Ridge pipeline\")\n",
    "print(\"Raw features:\")\n",
    "print(x_N1)\n",
    "\n",
    "step1_NF = ridge_big_alpha_pipeline.steps[0][1].transform(x_N1)\n",
    "print(\"After step 1: new shape is \" + str(step1_NF.shape))\n",
    "print(step1_NF)\n"
   ]
  },
  {
   "cell_type": "markdown",
   "metadata": {},
   "source": [
    "Read about MinMaxScaler here:\n",
    "\n",
    "<https://scikit-learn.org/stable/modules/generated/sklearn.preprocessing.MinMaxScaler.html>"
   ]
  },
  {
   "cell_type": "markdown",
   "metadata": {},
   "source": [
    "Let's add a min-max scalar to our pipeline"
   ]
  },
  {
   "cell_type": "code",
   "execution_count": 54,
   "metadata": {},
   "outputs": [],
   "source": [
    "rescaled_ridge_big_alpha_pipeline = sklearn.pipeline.Pipeline([\n",
    "        ('rescale', sklearn.preprocessing.MinMaxScaler()),\n",
    "        (\"preproc\", sklearn.preprocessing.PolynomialFeatures(10, include_bias=False)),\n",
    "        (\"regr\", sklearn.linear_model.Ridge(alpha=100.0)),   # <<< LOOK, Ridge regression with alpha = 0.0001\n",
    "        ])"
   ]
  },
  {
   "cell_type": "markdown",
   "metadata": {},
   "source": [
    "Let's fit that pipeline to our dataset"
   ]
  },
  {
   "cell_type": "code",
   "execution_count": 55,
   "metadata": {},
   "outputs": [],
   "source": [
    "rescaled_ridge_big_alpha_pipeline.fit(x_N1, y_N);"
   ]
  },
  {
   "cell_type": "markdown",
   "metadata": {},
   "source": [
    "OK, now, we inspect the features produced after each step"
   ]
  },
  {
   "cell_type": "code",
   "execution_count": 56,
   "metadata": {},
   "outputs": [
    {
     "name": "stdout",
     "output_type": "stream",
     "text": [
      "============= Displaying transformed features of MinMaxScalar + Polynomial Features + Ridge pipeline\n",
      "Raw features:\n",
      "[[-3.06]\n",
      " [-2.11]\n",
      " [-1.66]\n",
      " [-0.92]\n",
      " [ 0.59]\n",
      " [ 1.17]\n",
      " [ 1.53]\n",
      " [ 2.33]\n",
      " [ 3.23]]\n",
      "After step 1: new shape is (9, 1)\n",
      "[[0.  ]\n",
      " [0.15]\n",
      " [0.22]\n",
      " [0.34]\n",
      " [0.58]\n",
      " [0.67]\n",
      " [0.73]\n",
      " [0.86]\n",
      " [1.  ]]\n",
      "After step 2: new shape is (9, 10)\n",
      "[[0.   0.   0.   0.   0.   0.   0.   0.   0.   0.  ]\n",
      " [0.15 0.02 0.   0.   0.   0.   0.   0.   0.   0.  ]\n",
      " [0.22 0.05 0.01 0.   0.   0.   0.   0.   0.   0.  ]\n",
      " [0.34 0.12 0.04 0.01 0.   0.   0.   0.   0.   0.  ]\n",
      " [0.58 0.34 0.2  0.11 0.07 0.04 0.02 0.01 0.01 0.  ]\n",
      " [0.67 0.45 0.3  0.2  0.14 0.09 0.06 0.04 0.03 0.02]\n",
      " [0.73 0.53 0.39 0.28 0.21 0.15 0.11 0.08 0.06 0.04]\n",
      " [0.86 0.74 0.63 0.54 0.46 0.4  0.34 0.29 0.25 0.22]\n",
      " [1.   1.   1.   1.   1.   1.   1.   1.   1.   1.  ]]\n"
     ]
    }
   ],
   "source": [
    "np.set_printoptions(precision=2, suppress=True, linewidth=100)\n",
    "\n",
    "print(\"============= Displaying transformed features of MinMaxScalar + Polynomial Features + Ridge pipeline\")\n",
    "\n",
    "print(\"Raw features:\")\n",
    "print(x_N1)\n",
    "\n",
    "step1_NF = rescaled_ridge_big_alpha_pipeline.steps[0][1].transform(x_N1)\n",
    "print(\"After step 1: new shape is \" + str(step1_NF.shape))\n",
    "print(step1_NF)\n",
    "\n",
    "step2_NG = rescaled_ridge_big_alpha_pipeline.steps[1][1].transform(step1_NF)\n",
    "print(\"After step 2: new shape is \" + str(step2_NG.shape))\n",
    "print(step2_NG)"
   ]
  },
  {
   "cell_type": "markdown",
   "metadata": {},
   "source": [
    "### Discussion 2b: What do you think is the benefit of using MinMaxScalar before PolynomialFeatures?"
   ]
  },
  {
   "cell_type": "markdown",
   "metadata": {},
   "source": [
    "TODO Write your explanation here"
   ]
  },
  {
   "cell_type": "markdown",
   "metadata": {},
   "source": [
    "### BONUS Exercise 2c: What math operation is performed by MinMaxScalar?\n",
    "\n",
    "**If you are pressed for time, skip this and look at Part 3 below **\n",
    "\n",
    "See if you can use the code below to get an idea\n",
    "\n",
    "Hint, look at the min and max values of the training set"
   ]
  },
  {
   "cell_type": "code",
   "execution_count": 31,
   "metadata": {},
   "outputs": [
    {
     "name": "stdout",
     "output_type": "stream",
     "text": [
      "Smallest training set x =    -3.061\n",
      "Smallest training set x =     3.231\n"
     ]
    }
   ],
   "source": [
    "print(\"Smallest training set x = % 9.3f\" % (x_N.min()))\n",
    "print(\"Smallest training set x = % 9.3f\" % (x_N.max()))"
   ]
  },
  {
   "cell_type": "code",
   "execution_count": 32,
   "metadata": {},
   "outputs": [],
   "source": [
    "pretrained_mm_scaler = rescaled_ridge_big_alpha_pipeline.steps[0][1] # Unpack from the pipeline"
   ]
  },
  {
   "cell_type": "code",
   "execution_count": 33,
   "metadata": {},
   "outputs": [
    {
     "name": "stdout",
     "output_type": "stream",
     "text": [
      "x =    -5.000 | \\phi(x) =    -0.308\n",
      "x =    -4.000 | \\phi(x) =    -0.149\n",
      "x =    -3.000 | \\phi(x) =     0.010\n",
      "x =    -2.000 | \\phi(x) =     0.169\n",
      "x =    -1.000 | \\phi(x) =     0.328\n",
      "x =     0.000 | \\phi(x) =     0.487\n",
      "x =     1.000 | \\phi(x) =     0.645\n",
      "x =     2.000 | \\phi(x) =     0.804\n",
      "x =     3.000 | \\phi(x) =     0.963\n",
      "x =     4.000 | \\phi(x) =     1.122\n",
      "x =     5.000 | \\phi(x) =     1.281\n"
     ]
    }
   ],
   "source": [
    "for x in np.linspace(-5, 5, 11):\n",
    "    phi = pretrained_mm_scaler.transform(np.asarray([[x]]))\n",
    "    print(\"x = % 9.3f | \\phi(x) = % 9.3f\" % (x, phi))"
   ]
  },
  {
   "cell_type": "markdown",
   "metadata": {},
   "source": [
    "<a id=\"part3\"></a>"
   ]
  },
  {
   "cell_type": "markdown",
   "metadata": {},
   "source": [
    "# Part 3: Lasso Regression"
   ]
  },
  {
   "cell_type": "markdown",
   "metadata": {},
   "source": [
    "### Small alpha value"
   ]
  },
  {
   "cell_type": "code",
   "execution_count": 57,
   "metadata": {},
   "outputs": [],
   "source": [
    "lasso_small_alpha_pipeline = sklearn.pipeline.Pipeline([\n",
    "        ('rescale', sklearn.preprocessing.MinMaxScaler()),\n",
    "        (\"preproc\", sklearn.preprocessing.PolynomialFeatures(10, include_bias=False)),\n",
    "        (\"regr\", sklearn.linear_model.Lasso(alpha=0.001, max_iter=1000000)), # LASSO with alpha = 0.1\n",
    "        ])"
   ]
  },
  {
   "cell_type": "code",
   "execution_count": 62,
   "metadata": {},
   "outputs": [],
   "source": [
    "lasso_small_alpha_pipeline.fit(x_N1, y_N);"
   ]
  },
  {
   "cell_type": "code",
   "execution_count": 61,
   "metadata": {},
   "outputs": [
    {
     "name": "stdout",
     "output_type": "stream",
     "text": [
      "Training set error:  1.090\n"
     ]
    }
   ],
   "source": [
    "yhat_N = lasso_small_alpha_pipeline.predict(x_N1)\n",
    "print(\"Training set error: % .3f\" % (sklearn.metrics.mean_squared_error(yhat_N, y_N)))"
   ]
  },
  {
   "cell_type": "code",
   "execution_count": 63,
   "metadata": {},
   "outputs": [
    {
     "name": "stdout",
     "output_type": "stream",
     "text": [
      "Feature     x: weight coef   -2.226\n",
      "Feature   x^2: weight coef    0 exactly\n",
      "Feature   x^3: weight coef   18.826\n",
      "Feature   x^4: weight coef    0 exactly\n",
      "Feature   x^5: weight coef    0 exactly\n",
      "Feature   x^6: weight coef  -48.260\n",
      "Feature   x^7: weight coef    0 exactly\n",
      "Feature   x^8: weight coef    0 exactly\n",
      "Feature   x^9: weight coef    0 exactly\n",
      "Feature  x^10: weight coef   32.067\n",
      "Intercept    : weight coef    3.473\n"
     ]
    }
   ],
   "source": [
    "pretty_print_weights(lasso_small_alpha_pipeline)"
   ]
  },
  {
   "cell_type": "markdown",
   "metadata": {},
   "source": [
    "### Moderate alpha value"
   ]
  },
  {
   "cell_type": "code",
   "execution_count": 64,
   "metadata": {},
   "outputs": [],
   "source": [
    "lasso_moderate_alpha_pipeline = sklearn.pipeline.Pipeline([\n",
    "        ('rescale', sklearn.preprocessing.MinMaxScaler()),\n",
    "        (\"preproc\", sklearn.preprocessing.PolynomialFeatures(10, include_bias=False)),\n",
    "        (\"regr\", sklearn.linear_model.Lasso(alpha=0.03, max_iter=100000)), # LASSO with alpha = 0.1\n",
    "        ])"
   ]
  },
  {
   "cell_type": "code",
   "execution_count": 65,
   "metadata": {},
   "outputs": [],
   "source": [
    "lasso_moderate_alpha_pipeline.fit(x_N1, y_N);"
   ]
  },
  {
   "cell_type": "code",
   "execution_count": 66,
   "metadata": {},
   "outputs": [
    {
     "name": "stdout",
     "output_type": "stream",
     "text": [
      "Training set error:  1.954\n"
     ]
    }
   ],
   "source": [
    "yhat_N = lasso_moderate_alpha_pipeline.predict(x_N1)\n",
    "print(\"Training set error: % .3f\" % (sklearn.metrics.mean_squared_error(yhat_N, y_N)))"
   ]
  },
  {
   "cell_type": "code",
   "execution_count": 67,
   "metadata": {},
   "outputs": [
    {
     "name": "stdout",
     "output_type": "stream",
     "text": [
      "Feature     x: weight coef    0 exactly\n",
      "Feature   x^2: weight coef   -0.193\n",
      "Feature   x^3: weight coef    0 exactly\n",
      "Feature   x^4: weight coef    0 exactly\n",
      "Feature   x^5: weight coef    0 exactly\n",
      "Feature   x^6: weight coef    0 exactly\n",
      "Feature   x^7: weight coef    0 exactly\n",
      "Feature   x^8: weight coef    0 exactly\n",
      "Feature   x^9: weight coef    0 exactly\n",
      "Feature  x^10: weight coef    0.039\n",
      "Intercept    : weight coef    3.343\n"
     ]
    }
   ],
   "source": [
    "pretty_print_weights(lasso_moderate_alpha_pipeline)"
   ]
  },
  {
   "cell_type": "markdown",
   "metadata": {},
   "source": [
    "### Big alpha value"
   ]
  },
  {
   "cell_type": "code",
   "execution_count": 68,
   "metadata": {},
   "outputs": [],
   "source": [
    "lasso_big_alpha_pipeline = sklearn.pipeline.Pipeline([\n",
    "        ('rescale', sklearn.preprocessing.MinMaxScaler()),\n",
    "        (\"preproc\", sklearn.preprocessing.PolynomialFeatures(10, include_bias=False)),\n",
    "        (\"regr\", sklearn.linear_model.Lasso(alpha=0.1, max_iter=100000)), # LASSO with alpha = 0.1\n",
    "        ])"
   ]
  },
  {
   "cell_type": "code",
   "execution_count": 69,
   "metadata": {},
   "outputs": [],
   "source": [
    "lasso_big_alpha_pipeline.fit(x_N1, y_N);"
   ]
  },
  {
   "cell_type": "code",
   "execution_count": 70,
   "metadata": {},
   "outputs": [
    {
     "name": "stdout",
     "output_type": "stream",
     "text": [
      "Training set error:  1.971\n"
     ]
    }
   ],
   "source": [
    "yhat_N = lasso_big_alpha_pipeline.predict(x_N1)\n",
    "print(\"Training set error: % .3f\" % (sklearn.metrics.mean_squared_error(yhat_N, y_N)))"
   ]
  },
  {
   "cell_type": "code",
   "execution_count": 71,
   "metadata": {},
   "outputs": [
    {
     "name": "stdout",
     "output_type": "stream",
     "text": [
      "Feature     x: weight coef    0 exactly\n",
      "Feature   x^2: weight coef    0 exactly\n",
      "Feature   x^3: weight coef    0 exactly\n",
      "Feature   x^4: weight coef    0 exactly\n",
      "Feature   x^5: weight coef    0 exactly\n",
      "Feature   x^6: weight coef    0 exactly\n",
      "Feature   x^7: weight coef    0 exactly\n",
      "Feature   x^8: weight coef    0 exactly\n",
      "Feature   x^9: weight coef    0 exactly\n",
      "Feature  x^10: weight coef    0 exactly\n",
      "Intercept    : weight coef    3.279\n"
     ]
    }
   ],
   "source": [
    "pretty_print_weights(lasso_big_alpha_pipeline)"
   ]
  },
  {
   "cell_type": "markdown",
   "metadata": {},
   "source": [
    "### Discussion 3b: Why do you think the intercept is regularized differently than other weights?"
   ]
  },
  {
   "cell_type": "markdown",
   "metadata": {},
   "source": [
    "TODO write your answer here"
   ]
  },
  {
   "cell_type": "markdown",
   "metadata": {},
   "source": [
    "### Tiny alpha value "
   ]
  },
  {
   "cell_type": "code",
   "execution_count": 72,
   "metadata": {},
   "outputs": [],
   "source": [
    "lasso_tiny_alpha_pipeline = sklearn.pipeline.Pipeline([\n",
    "        ('rescale', sklearn.preprocessing.MinMaxScaler()),\n",
    "        (\"preproc\", sklearn.preprocessing.PolynomialFeatures(10, include_bias=False)),\n",
    "        (\"regr\", sklearn.linear_model.Lasso(alpha=0.00001, max_iter=1000000)),         # LASSO!\n",
    "        ])"
   ]
  },
  {
   "cell_type": "code",
   "execution_count": 74,
   "metadata": {},
   "outputs": [
    {
     "name": "stderr",
     "output_type": "stream",
     "text": [
      "C:\\Users\\bq100\\.conda\\envs\\comp135_2020f_env\\lib\\site-packages\\sklearn\\linear_model\\_coordinate_descent.py:529: ConvergenceWarning: Objective did not converge. You might want to increase the number of iterations. Duality gap: 0.21853066573871635, tolerance: 0.0017735114493534951\n",
      "  model = cd_fast.enet_coordinate_descent(\n"
     ]
    }
   ],
   "source": [
    "lasso_tiny_alpha_pipeline.fit(x_N1, y_N);"
   ]
  },
  {
   "cell_type": "code",
   "execution_count": 44,
   "metadata": {},
   "outputs": [
    {
     "name": "stdout",
     "output_type": "stream",
     "text": [
      "Training set error:  0.047\n"
     ]
    }
   ],
   "source": [
    "yhat_N = lasso_tiny_alpha_pipeline.predict(x_N1)\n",
    "print(\"Training set error: % .3f\" % (sklearn.metrics.mean_squared_error(yhat_N, y_N)))"
   ]
  },
  {
   "cell_type": "code",
   "execution_count": 45,
   "metadata": {},
   "outputs": [
    {
     "name": "stdout",
     "output_type": "stream",
     "text": [
      "Feature     x: weight coef   78.936\n",
      "Feature   x^2: weight coef -620.092\n",
      "Feature   x^3: weight coef  1423.962\n",
      "Feature   x^4: weight coef -715.867\n",
      "Feature   x^5: weight coef -687.139\n",
      "Feature   x^6: weight coef    0 exactly\n",
      "Feature   x^7: weight coef  424.579\n",
      "Feature   x^8: weight coef  368.810\n",
      "Feature   x^9: weight coef    0 exactly\n",
      "Feature  x^10: weight coef -272.054\n",
      "Intercept    : weight coef    2.812\n"
     ]
    }
   ],
   "source": [
    "pretty_print_weights(lasso_tiny_alpha_pipeline)"
   ]
  },
  {
   "cell_type": "markdown",
   "metadata": {},
   "source": [
    "### Discussion 3c: What do you think that convergence warning means?"
   ]
  },
  {
   "cell_type": "code",
   "execution_count": null,
   "metadata": {},
   "outputs": [],
   "source": []
  },
  {
   "cell_type": "code",
   "execution_count": null,
   "metadata": {},
   "outputs": [],
   "source": []
  },
  {
   "cell_type": "code",
   "execution_count": null,
   "metadata": {},
   "outputs": [],
   "source": []
  },
  {
   "cell_type": "code",
   "execution_count": null,
   "metadata": {},
   "outputs": [],
   "source": []
  },
  {
   "cell_type": "code",
   "execution_count": null,
   "metadata": {},
   "outputs": [],
   "source": []
  }
 ],
 "metadata": {
  "kernelspec": {
   "display_name": "Python 3",
   "language": "python",
   "name": "python3"
  },
  "language_info": {
   "codemirror_mode": {
    "name": "ipython",
    "version": 3
   },
   "file_extension": ".py",
   "mimetype": "text/x-python",
   "name": "python",
   "nbconvert_exporter": "python",
   "pygments_lexer": "ipython3",
   "version": "3.8.5"
  }
 },
 "nbformat": 4,
 "nbformat_minor": 4
}
