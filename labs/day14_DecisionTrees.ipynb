{
 "cells": [
  {
   "cell_type": "markdown",
   "metadata": {},
   "source": [
    "# day14: Decision Tree Classifier Basics\n",
    "\n",
    "# Objectives\n",
    "\n",
    "* Learn how to use *probabilistic* decision tree binary classifiers in sklearn\n",
    "* * Call `fit` to train them on provided labeled dataset\n",
    "* * Call `predict_proba` to get probabilistic predictions (will give you multiple columns, one per possible label)\n",
    "* * * use `predict_proba(...)[:,1]` to get just the probabilities of the positive class\n",
    "* * Call `predict` to get hard binary decisions\n",
    "\n",
    "* See tradeoffs as a function of different hyperparameters\n",
    "* * max_depth\n",
    "* * min_samples_per_leaf\n",
    "* * We'll reuse the same examples from our experience with Logistic Regression and kNN to provide some common ground\n",
    "\n",
    "# Outline\n",
    "* [Part 1: Binary classification with Decision Trees on 1-dim. toy example](#part1)\n",
    "* [Part 2: Inspecting learned tree structure on toy example](#part2)\n",
    "* [Part 3: Visualizing decision boundaries of Decision Trees on 2-dim. features](#part3)\n",
    "* [Part 4 (Bonus): Inspecting learned tree structure on 2-dim. example](#part4)\n",
    "\n",
    "We expect you'll get through part 3 during this class period. \n",
    "\n",
    "# Takeaways\n",
    "\n",
    "* Decision trees produce piecewise constant decision boundaries (as function of features)\n",
    "* * These boundaries are *axis aligned*, meaning they are always parallel or perpendicular to one of the \"elementary\" directions in the feature space (along x1 axis, along x2 axis, etc)"
   ]
  },
  {
   "cell_type": "code",
   "execution_count": 1,
   "metadata": {},
   "outputs": [],
   "source": [
    "import numpy as np"
   ]
  },
  {
   "cell_type": "code",
   "execution_count": 2,
   "metadata": {},
   "outputs": [],
   "source": [
    "import sklearn.tree\n"
   ]
  },
  {
   "cell_type": "code",
   "execution_count": 3,
   "metadata": {},
   "outputs": [],
   "source": [
    "# import plotting libraries\n",
    "import matplotlib\n",
    "import matplotlib.pyplot as plt\n",
    "\n",
    "%matplotlib inline\n",
    "plt.style.use('seaborn') # pretty matplotlib plots\n",
    "\n",
    "import seaborn as sns\n",
    "sns.set('notebook', font_scale=1.25, style='whitegrid')"
   ]
  },
  {
   "cell_type": "markdown",
   "metadata": {},
   "source": [
    "# Setting up a simple classification task with 1-dim features"
   ]
  },
  {
   "cell_type": "markdown",
   "metadata": {},
   "source": [
    "Let's think about a classification task where:\n",
    "\n",
    "Each input is just scalar $x$ between -1 and +1.\n",
    "\n",
    "The \"true\" label assignment function is as follows:\n",
    "\n",
    "$$\n",
    "y(x) = \\begin{cases} \n",
    "1 & \\text{if} ~ x > 0 \\\\\n",
    "0 & \\text{otherwise}\n",
    "\\end{cases}\n",
    "$$\n",
    "\n",
    "The true labeling process also has some noise: after assigning a label with the above function, each example has a ~15% chance of the opposite label. \n",
    "\n",
    "This noise makes our classification interesting. The \"best case\" error rate is about ~15%."
   ]
  },
  {
   "cell_type": "markdown",
   "metadata": {},
   "source": [
    "### Make training set for 1-dim. toy example"
   ]
  },
  {
   "cell_type": "code",
   "execution_count": 4,
   "metadata": {},
   "outputs": [],
   "source": [
    "# We generated this training set for you.\n",
    "\n",
    "N = 12\n",
    "\n",
    "x_tr_N = np.asarray([\n",
    "    -0.975, -0.825, -0.603, -0.378, -0.284, -0.102,\n",
    "     0.169,  0.311,  0.431,  0.663,  0.795,  0.976])\n",
    "x_tr_N1 = x_tr_N.reshape((N,1)) # need an (N,1) shaped array for later use with sklearn\n",
    "\n",
    "y_tr_N = np.asarray([0, 1, 0, 1, 0, 0, 1, 1, 1, 0, 0, 1])"
   ]
  },
  {
   "cell_type": "code",
   "execution_count": 6,
   "metadata": {},
   "outputs": [
    {
     "data": {
      "image/png": "[encoded data removed]",
      "text/plain": [
       "<Figure size 576x396 with 1 Axes>"
      ]
     },
     "metadata": {},
     "output_type": "display_data"
    }
   ],
   "source": [
    "plt.plot(x_tr_N, y_tr_N, 'ks', label='training set');\n",
    "plt.xlabel('x');\n",
    "plt.ylabel('y');\n",
    "plt.legend(bbox_to_anchor=(1.0, 0.5));"
   ]
  },
  {
   "cell_type": "markdown",
   "metadata": {},
   "source": [
    "### Make validation set for 1-d toy example"
   ]
  },
  {
   "cell_type": "code",
   "execution_count": 7,
   "metadata": {},
   "outputs": [],
   "source": [
    "def make_dataset(n_examples=10, seed=101, flip_fraction=0.15):\n",
    "    N = int(n_examples)\n",
    "    prng = np.random.RandomState(seed)\n",
    "\n",
    "    # Make x values between -1 and 1, roughly evenly spaced\n",
    "    x_N = np.linspace(-1, 1, N) + 0.05 * prng.randn(N)\n",
    "\n",
    "    # Make y values such that broadly, the true function says:\n",
    "    # y_n = 1  if x_n > 0 \n",
    "    # y_n = 0  otherwise\n",
    "    y_N = np.asarray(x_N > 0, dtype=np.int32)\n",
    "\n",
    "    # flip a small percentage of the values\n",
    "    chosen_ids = prng.permutation(np.arange(N))[:int(np.floor(flip_fraction * N))]\n",
    "    y_N[chosen_ids] = 1 - y_N[chosen_ids]\n",
    "    return x_N.reshape((N,1)), y_N"
   ]
  },
  {
   "cell_type": "code",
   "execution_count": 8,
   "metadata": {},
   "outputs": [],
   "source": [
    "M = 100\n",
    "x_va_M1, y_va_M = make_dataset(n_examples=M, seed=201)"
   ]
  },
  {
   "cell_type": "code",
   "execution_count": 9,
   "metadata": {},
   "outputs": [
    {
     "data": {
      "image/png": "[encoded data removed]",
      "text/plain": [
       "<Figure size 576x396 with 1 Axes>"
      ]
     },
     "metadata": {},
     "output_type": "display_data"
    }
   ],
   "source": [
    "plt.plot(x_tr_N, y_tr_N, 'ks', label='training set');\n",
    "plt.plot(x_va_M1, y_va_M - 0.01, 'rs', label='validation set'); # add small vertical offset so you can see both sets\n",
    "\n",
    "plt.xlabel('x');\n",
    "plt.ylabel('y');\n",
    "plt.legend(bbox_to_anchor=(1.0, 0.5));"
   ]
  },
  {
   "cell_type": "markdown",
   "metadata": {},
   "source": [
    "<a id=\"part1\"></a>"
   ]
  },
  {
   "cell_type": "markdown",
   "metadata": {},
   "source": [
    "# Part 1: Train a decision tree model for F=1 data\n",
    "\n",
    "See the docs for DecisionTreeClassifier here: <https://scikit-learn.org/stable/modules/generated/sklearn.tree.DecisionTreeClassifier.html>\n",
    "\n",
    "Here, we'll fit a decision tree probabilistic classifier to the above 1-dim. feature dataset."
   ]
  },
  {
   "cell_type": "code",
   "execution_count": 10,
   "metadata": {
    "scrolled": true
   },
   "outputs": [],
   "source": [
    "# We'll use max_depth = 2 for now. You could select it like any hyperparameter on validation data.\n",
    "\n",
    "tree_depth2 = sklearn.tree.DecisionTreeClassifier(max_depth=2)"
   ]
  },
  {
   "cell_type": "code",
   "execution_count": 11,
   "metadata": {},
   "outputs": [
    {
     "data": {
      "text/plain": [
       "DecisionTreeClassifier(max_depth=2)"
      ]
     },
     "execution_count": 11,
     "metadata": {},
     "output_type": "execute_result"
    }
   ],
   "source": [
    "tree_depth2.fit(x_tr_N1, y_tr_N)"
   ]
  },
  {
   "cell_type": "markdown",
   "metadata": {},
   "source": [
    "### Make predictions using our tree using `predict_proba`\n",
    "\n",
    "Remember, `predict_proba()` returns the probabilities of ALL possible labels: 0 and 1\n",
    "\n",
    "There will be two columns, one for each label.\n",
    "\n",
    "The first column is for the class corresponding to binary label 0.\n",
    "The second column is for the class corresponding to binary label 1."
   ]
  },
  {
   "cell_type": "code",
   "execution_count": 12,
   "metadata": {},
   "outputs": [
    {
     "name": "stdout",
     "output_type": "stream",
     "text": [
      "yproba_N2\n",
      "Shape: (12, 2)\n",
      "[[0.5        0.5       ]\n",
      " [0.5        0.5       ]\n",
      " [0.5        0.5       ]\n",
      " [0.5        0.5       ]\n",
      " [1.         0.        ]\n",
      " [1.         0.        ]\n",
      " [0.         1.        ]\n",
      " [0.         1.        ]\n",
      " [0.         1.        ]\n",
      " [0.66666667 0.33333333]\n",
      " [0.66666667 0.33333333]\n",
      " [0.66666667 0.33333333]]\n"
     ]
    }
   ],
   "source": [
    "yproba_N2 = tree_depth2.predict_proba(x_tr_N1)\n",
    "print(\"yproba_N2\")\n",
    "print(\"Shape: \" + str(yproba_N2.shape))\n",
    "print(yproba_N2)"
   ]
  },
  {
   "cell_type": "markdown",
   "metadata": {},
   "source": [
    "## Exercise 1a: Obtain a 1D array of the predicted probas for *positive* class only\n",
    "\n",
    "** Input **: 2D array `yproba_N2` from above, with shape (N, 2)\n",
    "\n",
    "** Desired output **: We want a 1D array with shape (N,) whos entries contain the probabilities that the training examples are in the positive class."
   ]
  },
  {
   "cell_type": "code",
   "execution_count": 13,
   "metadata": {},
   "outputs": [],
   "source": [
    "yproba1_N = np.zeros(N) # TODO fix me"
   ]
  },
  {
   "cell_type": "markdown",
   "metadata": {},
   "source": [
    "## Setup : Prepare for a plot over dense grid of inputs"
   ]
  },
  {
   "cell_type": "code",
   "execution_count": 15,
   "metadata": {},
   "outputs": [],
   "source": [
    "# Create dense grid of L input examples from -1.5 to 1.5\n",
    "# so we can better understand the learned predictions\n",
    "L = 101\n",
    "dense_x_L1 = np.linspace(-1.5, 1.5, L).reshape((L,1))"
   ]
  },
  {
   "cell_type": "code",
   "execution_count": 16,
   "metadata": {},
   "outputs": [],
   "source": [
    "# Apply our trained tree to make predictions along this grid\n",
    "# Uses the syntax [:,1] to access the column with index 1 (so we only get the probas for positive class)"
   ]
  },
  {
   "cell_type": "code",
   "execution_count": 17,
   "metadata": {},
   "outputs": [],
   "source": [
    "yproba1_dense_L = tree_depth2.predict_proba(dense_x_L1)[:,1]"
   ]
  },
  {
   "cell_type": "markdown",
   "metadata": {},
   "source": [
    "## Plot: predicted probabilities vs. feature value at DEPTH = 2\n",
    "\n",
    "We can see that the predicted probabilities from Decision Trees are *piecewise constant*."
   ]
  },
  {
   "cell_type": "code",
   "execution_count": 18,
   "metadata": {},
   "outputs": [
    {
     "data": {
      "text/plain": [
       "Text(0.5, 1.0, 'Decision Tree with depth=2')"
      ]
     },
     "execution_count": 18,
     "metadata": {},
     "output_type": "execute_result"
    },
    {
     "data": {
      "image/png": "[encoded data removed]",
      "text/plain": [
       "<Figure size 576x396 with 1 Axes>"
      ]
     },
     "metadata": {},
     "output_type": "display_data"
    }
   ],
   "source": [
    "plt.plot(x_tr_N, y_tr_N, 'ks', label='training set');\n",
    "plt.plot(x_tr_N, yproba1_N, 'bd', label='Probability predictions on training set');\n",
    "plt.plot(dense_x_L1, yproba1_dense_L, 'b-', label='Probability evaluated at dense grid')\n",
    "\n",
    "plt.xlabel('x');\n",
    "plt.ylabel('y');\n",
    "plt.legend(bbox_to_anchor=(1.0, 0.5));\n",
    "plt.title(\"Decision Tree with depth=2\")"
   ]
  },
  {
   "cell_type": "markdown",
   "metadata": {},
   "source": [
    "## Discussion 2a: Why does this plot have piecewise constant probability predictions?"
   ]
  },
  {
   "cell_type": "markdown",
   "metadata": {},
   "source": [
    "TODO write your answer here."
   ]
  },
  {
   "cell_type": "markdown",
   "metadata": {},
   "source": [
    "## Try again with max_depth = 1 Decision Tree"
   ]
  },
  {
   "cell_type": "code",
   "execution_count": 19,
   "metadata": {},
   "outputs": [],
   "source": [
    "# Call sklearn.tree.DecisionTreeClassifier(...) with max_depth hyperparameter set to 1\n",
    "tree_depth1 = sklearn.tree.DecisionTreeClassifier(max_depth=1)"
   ]
  },
  {
   "cell_type": "code",
   "execution_count": 20,
   "metadata": {},
   "outputs": [
    {
     "data": {
      "text/plain": [
       "DecisionTreeClassifier(max_depth=1)"
      ]
     },
     "execution_count": 20,
     "metadata": {},
     "output_type": "execute_result"
    }
   ],
   "source": [
    "tree_depth1.fit(x_tr_N1, y_tr_N)"
   ]
  },
  {
   "cell_type": "code",
   "execution_count": 23,
   "metadata": {},
   "outputs": [],
   "source": [
    "depth1_yproba1_N = tree_depth1.predict_proba(x_tr_N1)[:,1]"
   ]
  },
  {
   "cell_type": "code",
   "execution_count": 24,
   "metadata": {},
   "outputs": [],
   "source": [
    "depth1_dense_yproba1_L = tree_depth1.predict_proba(dense_x_L1)[:,1]"
   ]
  },
  {
   "cell_type": "code",
   "execution_count": 25,
   "metadata": {},
   "outputs": [
    {
     "data": {
      "image/png": "[encoded data removed]",
      "text/plain": [
       "<Figure size 576x396 with 1 Axes>"
      ]
     },
     "metadata": {},
     "output_type": "display_data"
    }
   ],
   "source": [
    "plt.plot(x_tr_N, y_tr_N, 'ks', label='training set');\n",
    "plt.plot(x_tr_N, depth1_yproba1_N, 'bd', label='Probability predictions on training set');\n",
    "plt.plot(dense_x_L1, depth1_dense_yproba1_L, 'b-', label='Probability evaluated at dense grid')\n",
    "\n",
    "plt.xlabel('x');\n",
    "plt.ylabel('y');\n",
    "plt.legend(bbox_to_anchor=(1.0, 0.5));\n",
    "plt.title(\"Decision Tree with depth=1\");"
   ]
  },
  {
   "cell_type": "markdown",
   "metadata": {},
   "source": [
    "## Exercise 1c: Try again with a max_depth=6 Decision Tree"
   ]
  },
  {
   "cell_type": "code",
   "execution_count": 26,
   "metadata": {},
   "outputs": [],
   "source": [
    "tree_depth6 = None # TODO call sklearn.tree.DecisionTreeClassifier(...) with max_depth hyperparameter set to 6"
   ]
  },
  {
   "cell_type": "code",
   "execution_count": 27,
   "metadata": {},
   "outputs": [],
   "source": [
    "# Train the classifier, by calling fit using provided arrays x_tr_N1, y_tr_N\n",
    "tree_depth6 # TODO fixme"
   ]
  },
  {
   "cell_type": "code",
   "execution_count": 28,
   "metadata": {},
   "outputs": [],
   "source": [
    "depth6_yproba1_N = 0.5 * np.ones(N) # TODO call predict_proba on the training set, keep only the positive class probas"
   ]
  },
  {
   "cell_type": "code",
   "execution_count": 29,
   "metadata": {},
   "outputs": [],
   "source": [
    "depth6_yproba1_dense_L = 0.5 * np.ones(L) # TODO call predict_proba on the dense input array, keep only positive class probas"
   ]
  },
  {
   "cell_type": "code",
   "execution_count": 33,
   "metadata": {
    "scrolled": true
   },
   "outputs": [
    {
     "data": {
      "text/plain": [
       "Text(0.5, 1.0, 'Decision Tree with depth=6')"
      ]
     },
     "execution_count": 33,
     "metadata": {},
     "output_type": "execute_result"
    },
    {
     "data": {
      "image/png": "[encoded data removed]",
      "text/plain": [
       "<Figure size 576x396 with 1 Axes>"
      ]
     },
     "metadata": {},
     "output_type": "display_data"
    }
   ],
   "source": [
    "plt.plot(x_tr_N, y_tr_N, 'ks', label='training set');\n",
    "plt.plot(x_tr_N, depth6_yproba1_N, 'bd', label='Probability predictions on training set');\n",
    "plt.plot(dense_x_L1, depth6_yproba1_dense_L, 'b-', label='Probability evaluated at dense grid')\n",
    "\n",
    "plt.xlabel('x');\n",
    "plt.ylabel('y');\n",
    "plt.legend(bbox_to_anchor=(1.0, 0.5));\n",
    "plt.title(\"Decision Tree with depth=6\")"
   ]
  },
  {
   "cell_type": "markdown",
   "metadata": {},
   "source": [
    "# Part 2: What is stored inside a trained instance of DecisionTreeClassifier "
   ]
  },
  {
   "cell_type": "code",
   "execution_count": 34,
   "metadata": {},
   "outputs": [],
   "source": [
    "def pretty_print_tree(tree_clf):    \n",
    "    # Has an attribute called tree_  which stores the entire\n",
    "    # tree structure and allows access to low level attributes. The binary tree\n",
    "    # tree_ is represented as a number of parallel arrays. The i-th element of each\n",
    "    # array holds information about the node `i`. Node 0 is the tree's root. NOTE:\n",
    "    # Some of the arrays only apply to either leaves or split nodes, resp. In this\n",
    "    # case the values of nodes of the other type are arbitrary!\n",
    "    #\n",
    "    # Among those arrays, we have:\n",
    "    #   - left_child, id of the left child of the node\n",
    "    #   - right_child, id of the right child of the node\n",
    "    #   - feature, feature used for splitting the node\n",
    "    #   - threshold, threshold value at the node\n",
    "    #   - value, counts of each class observed in training examples that reach this node\n",
    "\n",
    "    # Using those arrays, we can parse the tree structure:\n",
    "\n",
    "    n_nodes = tree_clf.tree_.node_count\n",
    "    children_left = tree_clf.tree_.children_left\n",
    "    children_right = tree_clf.tree_.children_right\n",
    "    feature = tree_clf.tree_.feature\n",
    "    threshold = tree_clf.tree_.threshold\n",
    "\n",
    "    # The tree structure can be traversed to compute various properties\n",
    "    # such as:\n",
    "    # * the depth of each node \n",
    "    # * whether or not it is a leaf.\n",
    "\n",
    "    node_depth = np.zeros(shape=n_nodes, dtype=np.int64)\n",
    "    is_leaves = np.zeros(shape=n_nodes, dtype=bool)\n",
    "    stack = [(0, -1)]  # seed is the root node id and its parent depth\n",
    "    while len(stack) > 0:\n",
    "        node_id, parent_depth = stack.pop()\n",
    "        node_depth[node_id] = parent_depth + 1\n",
    "\n",
    "        # If we have a test node\n",
    "        if (children_left[node_id] != children_right[node_id]):\n",
    "            stack.append((children_left[node_id], parent_depth + 1))\n",
    "            stack.append((children_right[node_id], parent_depth + 1))\n",
    "        else:\n",
    "            is_leaves[node_id] = True\n",
    "\n",
    "    print(\"The binary tree structure has %s nodes.\" % n_nodes)\n",
    "    print(\"The tree structure is:\")\n",
    "    for i in range(n_nodes):\n",
    "        if is_leaves[i]:\n",
    "            n_class0 = tree_clf.tree_.value[i,0,0]\n",
    "            n_class1 = tree_clf.tree_.value[i,0,1]\n",
    "            proba1 = n_class1 / (n_class1 + n_class0)\n",
    "            print(\"%snode=%s is a leaf node with p(y=1 | this leaf) = %.3f (%d training examples)\" % (\n",
    "                node_depth[i] * \"\\t\", i, proba1, n_class0 + n_class1))\n",
    "\n",
    "        else:\n",
    "            print(\"%snode=%s is a test node: go to node %s if X[:, %s] <= %.2f else to \"\n",
    "                  \"node %s.\"\n",
    "                  % (node_depth[i] * \"\\t\",\n",
    "                     i,\n",
    "                     children_left[i],\n",
    "                     feature[i],\n",
    "                     threshold[i],\n",
    "                     children_right[i],\n",
    "                     ))\n",
    "    print()"
   ]
  },
  {
   "cell_type": "markdown",
   "metadata": {},
   "source": []
  },
  {
   "cell_type": "markdown",
   "metadata": {},
   "source": [
    "## Display tree with depth 1"
   ]
  },
  {
   "cell_type": "code",
   "execution_count": 32,
   "metadata": {},
   "outputs": [
    {
     "name": "stdout",
     "output_type": "stream",
     "text": [
      "The binary tree structure has 3 nodes.\n",
      "The tree structure is:\n",
      "node=0 is a test node: go to node 1 if X[:, 0] <= 0.03 else to node 2.\n",
      "\tnode=1 is a leaf node with p(y=1 | this leaf) = 0.333 (6 training examples)\n",
      "\tnode=2 is a leaf node with p(y=1 | this leaf) = 0.667 (6 training examples)\n",
      "\n"
     ]
    }
   ],
   "source": [
    "pretty_print_tree(tree_depth1)"
   ]
  },
  {
   "cell_type": "markdown",
   "metadata": {},
   "source": [
    "## Discussion 2a: Does this structure above align with the depth=1 visualization in Part 1?\n",
    "\n",
    "* Does the number of training examples assigned to each leaf make sense?\n",
    "* Does the probability predicted by each leaf make sense?\n"
   ]
  },
  {
   "cell_type": "markdown",
   "metadata": {},
   "source": [
    "## Display tree with depth 2"
   ]
  },
  {
   "cell_type": "code",
   "execution_count": 29,
   "metadata": {},
   "outputs": [
    {
     "name": "stdout",
     "output_type": "stream",
     "text": [
      "The binary tree structure has 7 nodes.\n",
      "The tree structure is:\n",
      "node=0 is a test node: go to node 1 if X[:, 0] <= 0.03 else to node 4.\n",
      "\tnode=1 is a test node: go to node 2 if X[:, 0] <= -0.33 else to node 3.\n",
      "\t\tnode=2 is a leaf node with p(y=1 | this leaf) = 0.500 (4 training examples)\n",
      "\t\tnode=3 is a leaf node with p(y=1 | this leaf) = 0.000 (2 training examples)\n",
      "\tnode=4 is a test node: go to node 5 if X[:, 0] <= 0.55 else to node 6.\n",
      "\t\tnode=5 is a leaf node with p(y=1 | this leaf) = 1.000 (3 training examples)\n",
      "\t\tnode=6 is a leaf node with p(y=1 | this leaf) = 0.333 (3 training examples)\n",
      "\n"
     ]
    }
   ],
   "source": [
    "pretty_print_tree(tree_depth2)"
   ]
  },
  {
   "cell_type": "markdown",
   "metadata": {},
   "source": [
    "## Discussion 2b: Does this structure above align with the depth=2 visualization in Part 1?\n"
   ]
  },
  {
   "cell_type": "markdown",
   "metadata": {},
   "source": [
    "TODO discuss"
   ]
  },
  {
   "cell_type": "code",
   "execution_count": null,
   "metadata": {},
   "outputs": [],
   "source": []
  },
  {
   "cell_type": "markdown",
   "metadata": {},
   "source": [
    "## Display tree with depth 6"
   ]
  },
  {
   "cell_type": "code",
   "execution_count": 30,
   "metadata": {},
   "outputs": [
    {
     "ename": "AttributeError",
     "evalue": "'NoneType' object has no attribute 'tree_'",
     "output_type": "error",
     "traceback": [
      "\u001b[0;31m---------------------------------------------------------------------------\u001b[0m",
      "\u001b[0;31mAttributeError\u001b[0m                            Traceback (most recent call last)",
      "\u001b[0;32m<ipython-input-30-03e417683152>\u001b[0m in \u001b[0;36m<module>\u001b[0;34m\u001b[0m\n\u001b[0;32m----> 1\u001b[0;31m \u001b[0mpretty_print_tree\u001b[0m\u001b[0;34m(\u001b[0m\u001b[0mtree_depth6\u001b[0m\u001b[0;34m)\u001b[0m\u001b[0;34m\u001b[0m\u001b[0;34m\u001b[0m\u001b[0m\n\u001b[0m",
      "\u001b[0;32m<ipython-input-27-1cff7f7a6be0>\u001b[0m in \u001b[0;36mpretty_print_tree\u001b[0;34m(tree_clf)\u001b[0m\n\u001b[1;32m     16\u001b[0m     \u001b[0;31m# Using those arrays, we can parse the tree structure:\u001b[0m\u001b[0;34m\u001b[0m\u001b[0;34m\u001b[0m\u001b[0;34m\u001b[0m\u001b[0m\n\u001b[1;32m     17\u001b[0m \u001b[0;34m\u001b[0m\u001b[0m\n\u001b[0;32m---> 18\u001b[0;31m     \u001b[0mn_nodes\u001b[0m \u001b[0;34m=\u001b[0m \u001b[0mtree_clf\u001b[0m\u001b[0;34m.\u001b[0m\u001b[0mtree_\u001b[0m\u001b[0;34m.\u001b[0m\u001b[0mnode_count\u001b[0m\u001b[0;34m\u001b[0m\u001b[0;34m\u001b[0m\u001b[0m\n\u001b[0m\u001b[1;32m     19\u001b[0m     \u001b[0mchildren_left\u001b[0m \u001b[0;34m=\u001b[0m \u001b[0mtree_clf\u001b[0m\u001b[0;34m.\u001b[0m\u001b[0mtree_\u001b[0m\u001b[0;34m.\u001b[0m\u001b[0mchildren_left\u001b[0m\u001b[0;34m\u001b[0m\u001b[0;34m\u001b[0m\u001b[0m\n\u001b[1;32m     20\u001b[0m     \u001b[0mchildren_right\u001b[0m \u001b[0;34m=\u001b[0m \u001b[0mtree_clf\u001b[0m\u001b[0;34m.\u001b[0m\u001b[0mtree_\u001b[0m\u001b[0;34m.\u001b[0m\u001b[0mchildren_right\u001b[0m\u001b[0;34m\u001b[0m\u001b[0;34m\u001b[0m\u001b[0m\n",
      "\u001b[0;31mAttributeError\u001b[0m: 'NoneType' object has no attribute 'tree_'"
     ]
    }
   ],
   "source": [
    "pretty_print_tree(tree_depth6)"
   ]
  },
  {
   "cell_type": "code",
   "execution_count": null,
   "metadata": {},
   "outputs": [],
   "source": []
  },
  {
   "cell_type": "markdown",
   "metadata": {},
   "source": [
    "# Setup for Part 3"
   ]
  },
  {
   "cell_type": "markdown",
   "metadata": {},
   "source": [
    "### Define simple dataset of points in 2D space\n",
    "\n",
    "Don't worry about the details of this setup.\n",
    "Just try to understand the plots below."
   ]
  },
  {
   "cell_type": "code",
   "execution_count": null,
   "metadata": {},
   "outputs": [],
   "source": [
    "def create_2d_dataset(N=100, noise_stddev=0.1, random_state=0):\n",
    "    random_state = np.random.RandomState(int(random_state))\n",
    "\n",
    "    mA_2 = np.asarray([1, 0])\n",
    "    covA_22 = np.square(noise_stddev) * np.eye(2)\n",
    "    \n",
    "    mB_2 = np.asarray([0, 0])\n",
    "    covB_22 = np.square(noise_stddev) * np.eye(2)\n",
    "\n",
    "    mC_2 = np.asarray([0, 1])\n",
    "    covC_22 = np.square(noise_stddev) * np.eye(2)\n",
    "\n",
    "    # Draw data from 3 \"Gaussian\" blobs\n",
    "    xA_N2 = random_state.multivariate_normal(mA_2, covA_22, size=N)\n",
    "    xB_N2 = random_state.multivariate_normal(mB_2, covB_22, size=N)\n",
    "    xC_N2 = random_state.multivariate_normal(mC_2, covC_22, size=N)\n",
    "\n",
    "    x_N2 = np.vstack([xA_N2, xB_N2, xC_N2])\n",
    "    y_N = np.hstack([np.ones(xA_N2.shape[0]), np.zeros(xB_N2.shape[0]), np.ones(xC_N2.shape[0])])\n",
    "    \n",
    "    return x_N2, y_N"
   ]
  },
  {
   "cell_type": "markdown",
   "metadata": {},
   "source": [
    "## Create the dataset with 100 points per class"
   ]
  },
  {
   "cell_type": "code",
   "execution_count": null,
   "metadata": {},
   "outputs": [],
   "source": [
    "x_N2, y_N = create_2d_dataset(N=100, noise_stddev=0.3)"
   ]
  },
  {
   "cell_type": "markdown",
   "metadata": {},
   "source": [
    "## Define function to plot data as scatterpoints in 2d"
   ]
  },
  {
   "cell_type": "code",
   "execution_count": null,
   "metadata": {},
   "outputs": [],
   "source": [
    "def plot_pretty_data_colored_by_labels(x_N2, y_N):\n",
    "    plt.plot(x_N2[y_N==0,0], x_N2[y_N==0,1], color='r', marker='x', linestyle='', markersize=5, mew=2, label='y=0');\n",
    "    plt.plot(x_N2[y_N==1,0], x_N2[y_N==1,1], color='b', marker='+', linestyle='', markersize=8, mew=2, label='y=1');"
   ]
  },
  {
   "cell_type": "code",
   "execution_count": null,
   "metadata": {},
   "outputs": [],
   "source": [
    "plot_pretty_data_colored_by_labels(x_N2, y_N);\n",
    "plt.legend(bbox_to_anchor=(1.0, 0.5));\n",
    "plt.xlabel('x_1');\n",
    "plt.ylabel('x_2');\n",
    "plt.gca().set_aspect(1.0);\n",
    "plt.xticks([0, 1, 2]);\n",
    "plt.yticks([0, 1, 2]);\n",
    "plt.title(\"Binary classification example with 2-dim feature\");"
   ]
  },
  {
   "cell_type": "markdown",
   "metadata": {},
   "source": [
    "### Define function to make pretty plots of predicted probability color fields\n",
    "\n",
    "You don't need to understand this in detail. Just a utility function."
   ]
  },
  {
   "cell_type": "code",
   "execution_count": null,
   "metadata": {},
   "outputs": [],
   "source": [
    "def plot_pretty_probabilities_for_clf(\n",
    "        clf,\n",
    "        do_show_colorbar=False,\n",
    "        x1_ticks=np.asarray([0, 2, 4]),\n",
    "        x2_ticks=np.asarray([0, 2, 4]),\n",
    "        c_levels=np.linspace(0, 1, 100),\n",
    "        c_ticks=np.asarray([0, 0.1, 0.2, 0.3, 0.4, 0.5, 0.6, 0.7, 0.8, 0.9, 1.0]),\n",
    "        x1_grid=np.linspace(-1, 2.3, 100),\n",
    "        x2_grid=np.linspace(-1, 2.3, 100)):\n",
    "    cur_ax = plt.gca()\n",
    "    \n",
    "    G = x1_grid.size\n",
    "    H = x2_grid.size\n",
    "    \n",
    "    # Get regular grid of G x H points, where each point is an (x1, x2) location\n",
    "    x1_GH, x2_GH = np.meshgrid(x1_grid, x2_grid)\n",
    "    \n",
    "    # Combine the x1 and x2 values into one array\n",
    "    # Flattened into M = G x H rows\n",
    "    # Each row of x_M2 is a 2D vector [x_m1, x_m2]\n",
    "    x_M2 = np.hstack([x1_GH.flatten()[:,np.newaxis], x2_GH.flatten()[:,np.newaxis]])\n",
    "    \n",
    "    # Predict proba for each point in the flattened grid\n",
    "    yproba1_M = clf.predict_proba(x_M2)[:,1]\n",
    "    \n",
    "    # Reshape the M probas into the GxH 2D field\n",
    "    yproba1_GH = np.reshape(yproba1_M, x1_GH.shape)\n",
    "    \n",
    "    cmap = plt.cm.RdYlBu\n",
    "    my_contourf_h = plt.contourf(x1_GH, x2_GH, yproba1_GH, levels=c_levels, vmin=0, vmax=1.0, cmap=cmap)\n",
    "    \n",
    "    plt.xticks(x1_ticks, x1_ticks);\n",
    "    plt.yticks(x2_ticks, x2_ticks);\n",
    "    \n",
    "    if do_show_colorbar:\n",
    "        left, bottom, width, height = plt.gca().get_position().bounds\n",
    "        cax = plt.gcf().add_axes([left+1.1*width, bottom, 0.03, height])\n",
    "        plt.colorbar(my_contourf_h, orientation='vertical', cax=cax, ticks=c_ticks);\n",
    "        plt.sca(cur_ax);"
   ]
  },
  {
   "cell_type": "markdown",
   "metadata": {},
   "source": [
    "### Define function to visualize hard decisions made as threshold\n",
    "\n",
    "You don't need to understand this in detail. Just a utility function."
   ]
  },
  {
   "cell_type": "code",
   "execution_count": null,
   "metadata": {},
   "outputs": [],
   "source": [
    "def plot_pretty_decision_boundaries_for_clf(\n",
    "        clf,\n",
    "        threshold=0.5,\n",
    "        do_show_colorbar=False,\n",
    "        x1_ticks=np.asarray([0, 2, 4]),\n",
    "        x2_ticks=np.asarray([0, 2, 4]),\n",
    "        c_levels=np.linspace(0, 1, 100),\n",
    "        c_ticks=np.asarray([0, 0.1, 0.2, 0.3, 0.4, 0.5, 0.6, 0.7, 0.8, 0.9, 1.0]),\n",
    "        x1_grid=np.linspace(-1, 2.3, 100),\n",
    "        x2_grid=np.linspace(-1, 2.3, 100)):\n",
    "    cur_ax = plt.gca()\n",
    "    \n",
    "    G = x1_grid.size\n",
    "    H = x2_grid.size\n",
    "    \n",
    "    # Get regular grid of G x H points, where each point is an (x1, x2) location\n",
    "    x1_GH, x2_GH = np.meshgrid(x1_grid, x2_grid)\n",
    "    \n",
    "    # Combine the x1 and x2 values into one array\n",
    "    # Flattened into M = G x H rows\n",
    "    # Each row of x_M2 is a 2D vector [x_m1, x_m2]\n",
    "    x_M2 = np.hstack([x1_GH.flatten()[:,np.newaxis], x2_GH.flatten()[:,np.newaxis]])\n",
    "    \n",
    "    # Predict proba for each point in the flattened grid\n",
    "    yproba1_M = clf.predict_proba(x_M2)[:,1]\n",
    "    yhat_M = yproba1_M >= threshold\n",
    "    \n",
    "    # Reshape the M probas into the GxH 2D field\n",
    "    yhat_GH = np.reshape(yhat_M, x1_GH.shape)\n",
    "    \n",
    "    cmap = plt.cm.RdYlBu\n",
    "    my_contourf_h = plt.contourf(x1_GH, x2_GH, yhat_GH, levels=c_levels, vmin=0, vmax=1.0, cmap=cmap)\n",
    "    \n",
    "    plt.xticks(x1_ticks, x1_ticks);\n",
    "    plt.yticks(x2_ticks, x2_ticks);\n",
    "    \n",
    "    if do_show_colorbar:\n",
    "        left, bottom, width, height = plt.gca().get_position().bounds\n",
    "        cax = plt.gcf().add_axes([left+1.1*width, bottom, 0.03, height])\n",
    "        plt.colorbar(my_contourf_h, orientation='vertical', cax=cax, ticks=c_ticks);\n",
    "        plt.sca(cur_ax);"
   ]
  },
  {
   "cell_type": "markdown",
   "metadata": {},
   "source": [
    "<a id=\"part5\"></a>"
   ]
  },
  {
   "cell_type": "markdown",
   "metadata": {},
   "source": [
    "# Part 3: Visualization of DecisionTree predictions as we vary max_depth\n",
    "\n",
    "Generally, max depth is one of the key hyperparameters that controls model complexity."
   ]
  },
  {
   "cell_type": "markdown",
   "metadata": {},
   "source": [
    "### Figure: DecisionTree predicted proba (colors) over 2D plane of x1, x2 "
   ]
  },
  {
   "cell_type": "code",
   "execution_count": null,
   "metadata": {
    "scrolled": true
   },
   "outputs": [],
   "source": [
    "max_depth_grid = [1, 2, 4, 8, 16]\n",
    "\n",
    "trees_by_depth = dict()\n",
    "\n",
    "ncols = len(max_depth_grid)\n",
    "fig_h, axes = plt.subplots(nrows=1, ncols=ncols, figsize=(5 * ncols, 5))\n",
    "\n",
    "is_last = False\n",
    "for ii, max_depth in enumerate(max_depth_grid):\n",
    "    if ii == ncols - 1:\n",
    "        is_last = True\n",
    "    plt.sca(axes[ii])\n",
    "    clf = sklearn.tree.DecisionTreeClassifier(max_depth=max_depth)\n",
    "    clf.fit(x_N2, y_N)\n",
    "    auroc = sklearn.metrics.roc_auc_score(y_N, clf.predict_proba(x_N2)[:,1])\n",
    "\n",
    "    plot_pretty_probabilities_for_clf(clf, do_show_colorbar=is_last);\n",
    "    plot_pretty_data_colored_by_labels(x_N2, y_N);\n",
    "    \n",
    "    plt.title(\"max_depth=%d\\ntrain_AUROC %.3f\" % (max_depth, auroc))\n",
    "    \n",
    "    # Store for later\n",
    "    trees_by_depth[max_depth] = clf"
   ]
  },
  {
   "cell_type": "markdown",
   "metadata": {},
   "source": [
    "## KNN: hard binary decisions (colors) over 2D plane of (x1, x2)\n",
    "\n",
    "Using Threshold: 0.5"
   ]
  },
  {
   "cell_type": "code",
   "execution_count": null,
   "metadata": {},
   "outputs": [],
   "source": [
    "max_depth_grid = [1, 2, 4, 8, 16]\n",
    "ncols = len(max_depth_grid)\n",
    "\n",
    "fig_h, axes = plt.subplots(nrows=1, ncols=ncols, figsize=(5 * ncols, 5))\n",
    "\n",
    "is_last = False\n",
    "for ii, max_depth in enumerate(max_depth_grid):\n",
    "    if ii == ncols - 1:\n",
    "        is_last = True\n",
    "    plt.sca(axes[ii])\n",
    "    clf = sklearn.tree.DecisionTreeClassifier(max_depth=max_depth)\n",
    "    clf.fit(x_N2, y_N)\n",
    "    err_rate = np.mean(np.logical_xor(y_N, clf.predict(x_N2)))\n",
    "    \n",
    "    plot_pretty_decision_boundaries_for_clf(clf, do_show_colorbar=is_last);\n",
    "    plot_pretty_data_colored_by_labels(x_N2, y_N);\n",
    "    plt.title(\"max_depth=%d\\ntrain_error_rate %.3f\" % (max_depth, err_rate))\n"
   ]
  },
  {
   "cell_type": "markdown",
   "metadata": {},
   "source": [
    "<a id=\"part6\"></a>"
   ]
  },
  {
   "cell_type": "markdown",
   "metadata": {},
   "source": [
    "### Discussion 3a: At what depth does the classifier get zero training error on the training set? Would we expect this on the validation set?"
   ]
  },
  {
   "cell_type": "markdown",
   "metadata": {},
   "source": [
    "### Discussion 3b: How could you select the maximum depth hyperparameter on a new dataset?\n",
    "\n",
    "* What search strategies would you consider?\n",
    "\n",
    "* What minimum and maximum candidate values would you consider?"
   ]
  },
  {
   "cell_type": "markdown",
   "metadata": {},
   "source": [
    "# Part 4 (Bonus) Inspect the learned tree structure on the F=2 problem above"
   ]
  },
  {
   "cell_type": "markdown",
   "metadata": {},
   "source": [
    "Remember, above we stored the learned trees inside our trees_by_depth dict.\n",
    "\n",
    "We'll now inspect each one to get a sense of how these models vary from simple to complex."
   ]
  },
  {
   "cell_type": "markdown",
   "metadata": {},
   "source": [
    "## DEPTH 1"
   ]
  },
  {
   "cell_type": "code",
   "execution_count": null,
   "metadata": {},
   "outputs": [],
   "source": [
    "pretty_print_tree(trees_by_depth[1])"
   ]
  },
  {
   "cell_type": "markdown",
   "metadata": {},
   "source": [
    "## DEPTH 2"
   ]
  },
  {
   "cell_type": "code",
   "execution_count": null,
   "metadata": {},
   "outputs": [],
   "source": [
    "pretty_print_tree(trees_by_depth[2])"
   ]
  },
  {
   "cell_type": "markdown",
   "metadata": {},
   "source": [
    "## DEPTH 4"
   ]
  },
  {
   "cell_type": "code",
   "execution_count": null,
   "metadata": {},
   "outputs": [],
   "source": [
    "pretty_print_tree(trees_by_depth[4])"
   ]
  },
  {
   "cell_type": "code",
   "execution_count": null,
   "metadata": {},
   "outputs": [],
   "source": []
  }
 ],
 "metadata": {
  "kernelspec": {
   "display_name": "Python 3",
   "language": "python",
   "name": "python3"
  },
  "language_info": {
   "codemirror_mode": {
    "name": "ipython",
    "version": 3
   },
   "file_extension": ".py",
   "mimetype": "text/x-python",
   "name": "python",
   "nbconvert_exporter": "python",
   "pygments_lexer": "ipython3",
   "version": "3.8.3"
  }
 },
 "nbformat": 4,
 "nbformat_minor": 2
}
