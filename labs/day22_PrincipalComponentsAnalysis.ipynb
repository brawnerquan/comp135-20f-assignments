{
 "cells": [
  {
   "cell_type": "markdown",
   "metadata": {},
   "source": [
    "# day22: Principal Components Analysis\n",
    "\n",
    "\n",
    "# Objectives\n",
    "\n",
    "* Understand PCA on both toy and \"real\" image datasets\n",
    "* Get familiar with how to perform transformations to low-dim. embeddings.\n",
    "* Get familiar with how to \"reconstruct\" images\n",
    "\n",
    "# Outline\n",
    "\n",
    "* [Part 1: PCA for toy data with F=2 features](#part1)\n",
    "* [Part 2: PCA with K=10 for image data with many features](#part2)\n",
    "* [Part 3: PCA where we select K for image data with many features](#part3)\n",
    "\n",
    "# Takeaways\n",
    "\n",
    "* Understanding how we add/remove the *mean* vector is important\n",
    "* Understanding that PCA is a nested model\n",
    "* * The component vectors for K=4 are the first four components of K=5, K=6, or K=10 or ...)\n",
    "* Selecting the number of components can be done in several ways:\n",
    "* * Using the fraction of explained variance criteria, as discussed here\n",
    "* * * Can be done very fast by reusing eigenvalues used at training time anyway\n",
    "* * Use an application specific performance metric"
   ]
  },
  {
   "cell_type": "code",
   "execution_count": 1,
   "metadata": {},
   "outputs": [],
   "source": [
    "import numpy as np\n",
    "import pandas as pd"
   ]
  },
  {
   "cell_type": "code",
   "execution_count": 2,
   "metadata": {},
   "outputs": [],
   "source": [
    "import sklearn.datasets"
   ]
  },
  {
   "cell_type": "code",
   "execution_count": 3,
   "metadata": {},
   "outputs": [],
   "source": [
    "import sklearn.decomposition"
   ]
  },
  {
   "cell_type": "code",
   "execution_count": 4,
   "metadata": {},
   "outputs": [],
   "source": [
    "# import plotting libraries\n",
    "import matplotlib\n",
    "import matplotlib.pyplot as plt\n",
    "\n",
    "%matplotlib inline\n",
    "plt.style.use('seaborn') # pretty matplotlib plots\n",
    "\n",
    "import seaborn as sns\n",
    "sns.set('notebook', font_scale=1.25, style='whitegrid')"
   ]
  },
  {
   "cell_type": "code",
   "execution_count": 5,
   "metadata": {},
   "outputs": [],
   "source": [
    "import matplotlib.colors as mcolors"
   ]
  },
  {
   "cell_type": "code",
   "execution_count": null,
   "metadata": {},
   "outputs": [],
   "source": []
  },
  {
   "cell_type": "markdown",
   "metadata": {},
   "source": [
    "# Setup: Create Small Toy Dataset with F=2\n",
    "\n",
    "We will have N=21 examples, with 2 features $x_1$ and $x_2$"
   ]
  },
  {
   "cell_type": "code",
   "execution_count": 6,
   "metadata": {},
   "outputs": [
    {
     "data": {
      "image/png": "[encoded data removed]",
      "text/plain": [
       "<Figure size 576x396 with 1 Axes>"
      ]
     },
     "metadata": {},
     "output_type": "display_data"
    }
   ],
   "source": [
    "random_state = np.random.RandomState(0)\n",
    "\n",
    "# Create N training x values between -5 and 5\n",
    "N = 21\n",
    "F = 2\n",
    "\n",
    "x1_N = np.linspace(-5, 5, N) + random_state.uniform(low=-0.2, high=0.2, size=N)\n",
    "\n",
    "B = 1.5\n",
    "x2_N = 1.0 * x1_N + random_state.uniform(low=-B, high=B, size=N)\n",
    "\n",
    "x_NF = np.zeros((N,F))\n",
    "x_NF[:,0] = x1_N\n",
    "x_NF[:,1] = x2_N\n",
    "\n",
    "# Plot the training data\n",
    "plt.plot(x1_N, x2_N, 'ks')\n",
    "plt.title('Training Data')\n",
    "plt.xlabel('x1');\n",
    "plt.ylabel('x2');\n",
    "plt.gca().set_aspect('equal', 'box')"
   ]
  },
  {
   "cell_type": "markdown",
   "metadata": {},
   "source": [
    "# Review: Math of Principal Components Analysis (PCA)\n",
    "\n",
    "We'll assume feature vectors  $x \\in \\mathbf{R}^F$.\n",
    "\n",
    "We want to find a principal components analysis model with $K$ components, which has parameters:\n",
    "* $m \\in \\mathbb{R}^F$ : mean vector\n",
    "* $W \\in \\mathbb{R}^{F \\times K}$ : weight vectorss for each component\n",
    "\n",
    "This model makes projections to the latent \"codes\" $z_n \\in \\mathbb{R}^K$ like this:\n",
    "$$\n",
    "z_n = \\mathbf{W}^T (\\mathbf{x}_n - \\mathbf{m})\n",
    "$$\n",
    "\n",
    "And then makes reconstructions like this:\n",
    "$$\n",
    "\\hat{x}_n(\\mathbf{m}, \\mathbf{W}) = \\mathbf{W} z_n + \\mathbf{m}\n",
    "$$\n",
    "\n",
    "The training objective is:\n",
    "$$\n",
    "\\min_{\\mathbf{m} \\in \\mathbb{R}^F, \\mathbf{W} \\in \\mathbb{R}^{F\\times K}}\n",
    "\\quad \\sum_{n=1}^N \\sum_{f=1}^F (\\mathbf{x}_{nf} - \\hat{\\mathbf{x}}_{nf}(\\mathbf{m}, \\mathbf{W}) )^2\n",
    "$$\n"
   ]
  },
  {
   "cell_type": "markdown",
   "metadata": {},
   "source": [
    "# Part 1: PCA for F=2 data"
   ]
  },
  {
   "cell_type": "markdown",
   "metadata": {},
   "source": [
    "## Fit a pca model with K=1 component to our data"
   ]
  },
  {
   "cell_type": "code",
   "execution_count": 7,
   "metadata": {},
   "outputs": [],
   "source": [
    "pca = sklearn.decomposition.PCA(n_components=1)"
   ]
  },
  {
   "cell_type": "code",
   "execution_count": 8,
   "metadata": {},
   "outputs": [
    {
     "data": {
      "text/plain": [
       "PCA(n_components=1)"
      ]
     },
     "execution_count": 8,
     "metadata": {},
     "output_type": "execute_result"
    }
   ],
   "source": [
    "pca.fit(x_NF)"
   ]
  },
  {
   "cell_type": "markdown",
   "metadata": {},
   "source": [
    "This fitting process estimates two parameters, $m$ and $W$, and stores them as attributes of `pca`"
   ]
  },
  {
   "cell_type": "markdown",
   "metadata": {},
   "source": [
    "## Inspecting the learned Mean vector $m$\n",
    "\n",
    "This vector is accessible as the `mean_` attribute"
   ]
  },
  {
   "cell_type": "code",
   "execution_count": 9,
   "metadata": {},
   "outputs": [
    {
     "name": "stdout",
     "output_type": "stream",
     "text": [
      "(2,)\n",
      "\n",
      "[0.04018504 0.13658959]\n"
     ]
    }
   ],
   "source": [
    "m_F = pca.mean_\n",
    "print(m_F.shape)\n",
    "print(\"\")\n",
    "print(m_F)"
   ]
  },
  {
   "cell_type": "markdown",
   "metadata": {},
   "source": [
    "## Exercise 1a: Can you convince yourself that this is the same as the training set's empirical mean vector?\n",
    "\n",
    "Compute the mean of each feature in the training set `x_NF`"
   ]
  },
  {
   "cell_type": "code",
   "execution_count": 10,
   "metadata": {},
   "outputs": [],
   "source": [
    "# TODO"
   ]
  },
  {
   "cell_type": "markdown",
   "metadata": {},
   "source": [
    "## Inspecting the learned weights $W$\n",
    "\n",
    "This vector is accessible as the `components_` attribute of our learned `pca` model"
   ]
  },
  {
   "cell_type": "code",
   "execution_count": 11,
   "metadata": {},
   "outputs": [
    {
     "name": "stdout",
     "output_type": "stream",
     "text": [
      "(1, 2)\n",
      "\n",
      "[[0.69601341 0.71802879]]\n"
     ]
    }
   ],
   "source": [
    "w_KF = pca.components_\n",
    "print(w_KF.shape)\n",
    "print(\"\")\n",
    "print(w_KF)\n"
   ]
  },
  {
   "cell_type": "markdown",
   "metadata": {},
   "source": [
    "## Exercise 1b: Can you convince yourself that this weight vector is a unit vector?\n",
    "\n",
    "That is, is the sum-of-squares magnitude of each component vector (each row) equal to one?"
   ]
  },
  {
   "cell_type": "code",
   "execution_count": 12,
   "metadata": {},
   "outputs": [],
   "source": [
    "# TODO compute sum of squares of each row of w_KF"
   ]
  },
  {
   "cell_type": "markdown",
   "metadata": {},
   "source": [
    "## Calling `transform`: Obtaining the low-dimensional embeddings"
   ]
  },
  {
   "cell_type": "code",
   "execution_count": 13,
   "metadata": {},
   "outputs": [],
   "source": [
    "z_NK = pca.transform(x_NF)"
   ]
  },
  {
   "cell_type": "code",
   "execution_count": 14,
   "metadata": {},
   "outputs": [
    {
     "name": "stdout",
     "output_type": "stream",
     "text": [
      "(21, 1)\n",
      "\n",
      "[[-6.52423243]\n",
      " [-6.4504965 ]\n",
      " [-5.11980459]\n",
      " [-5.87207543]\n",
      " [-4.10995134]\n",
      " [-4.34687772]\n",
      " [-2.03157546]\n",
      " [-1.97845129]\n",
      " [-1.46165685]\n",
      " [-1.40616067]\n",
      " [ 0.62968306]\n",
      " [ 0.50286399]\n",
      " [ 1.47389739]\n",
      " [ 1.19917502]\n",
      " [ 2.71280757]\n",
      " [ 3.41699812]\n",
      " [ 4.09659534]\n",
      " [ 5.96711016]\n",
      " [ 6.07911096]\n",
      " [ 6.14379828]\n",
      " [ 7.07924238]]\n"
     ]
    }
   ],
   "source": [
    "print(z_NK.shape)\n",
    "print(\"\")\n",
    "print(z_NK)"
   ]
  },
  {
   "cell_type": "markdown",
   "metadata": {},
   "source": [
    "### Compute the reconstructions\n",
    "\n",
    "Each training example (index $n$) can be reconstructed as:\n",
    "\n",
    "$$\n",
    "\\hat{x}_n(\\mathbf{m}, \\mathbf{W}) = \\mathbf{W} z_n + \\mathbf{m}\n",
    "$$\n",
    "\n",
    "If we convert this to matrix-vector arithmetic for the full dataset, we can do:\n",
    "\n",
    "$$\n",
    "\\hat{X} = \\mathbf{Z} \\mathbf{W} + \\mathbf{m}\n",
    "$$\n",
    "\n",
    "where $\\hat{X}$ is an $N \\times F$ matrix, where each row is equal to $\\hat{x}_n(\\mathbf{m}, \\mathbf{W})$"
   ]
  },
  {
   "cell_type": "code",
   "execution_count": 15,
   "metadata": {},
   "outputs": [],
   "source": [
    "xhat_NF = np.dot(z_NK, w_KF) + m_F[np.newaxis,:]"
   ]
  },
  {
   "cell_type": "code",
   "execution_count": 16,
   "metadata": {},
   "outputs": [
    {
     "name": "stdout",
     "output_type": "stream",
     "text": [
      "(21, 2)\n",
      "\n",
      "First 5 rows of this array\n",
      "[[-4.5007682  -4.54799709]\n",
      " [-4.449447   -4.49505257]\n",
      " [-3.52326759 -3.53957748]\n",
      " [-4.04685818 -4.07972959]\n",
      " [-2.82039619 -2.81447377]]\n"
     ]
    }
   ],
   "source": [
    "print(xhat_NF.shape)\n",
    "print()\n",
    "print(\"First 5 rows of this array\")\n",
    "print(xhat_NF[:5])"
   ]
  },
  {
   "cell_type": "markdown",
   "metadata": {},
   "source": [
    "### Visualize the reconstructions"
   ]
  },
  {
   "cell_type": "code",
   "execution_count": 17,
   "metadata": {},
   "outputs": [
    {
     "data": {
      "image/png": "[encoded data removed]",
      "text/plain": [
       "<Figure size 576x396 with 1 Axes>"
      ]
     },
     "metadata": {},
     "output_type": "display_data"
    }
   ],
   "source": [
    "# Plot the training data\n",
    "plt.plot(x1_N, x2_N, 'ks', label='Training Data')\n",
    "\n",
    "# Plot the reconstructed data\n",
    "plt.plot(xhat_NF[:,0], xhat_NF[:,1], 'r.', label='Reconstructed Data', mew=5)\n",
    "\n",
    "# Draw line between training example and reconstruction\n",
    "for n in range(N):\n",
    "    xy_22 = np.zeros((2,2))\n",
    "    xy_22[0] = x_NF[n,:]\n",
    "    xy_22[1] = xhat_NF[n,:]\n",
    "    plt.plot(xy_22[:,0], xy_22[:,1], 'r-')\n",
    "\n",
    "plt.legend(bbox_to_anchor=(1.75, 0.5))\n",
    "plt.xlabel('x1');\n",
    "plt.ylabel('x2');\n",
    "plt.gca().set_aspect('equal', 'box')"
   ]
  },
  {
   "cell_type": "markdown",
   "metadata": {},
   "source": [
    "## Show that we know how to perform the PCA transform ourselves"
   ]
  },
  {
   "cell_type": "code",
   "execution_count": 18,
   "metadata": {},
   "outputs": [],
   "source": [
    "def my_transform(x_NF, w_KF, m_F):\n",
    "    ''' Perform transformation to get low-dim embeddings\n",
    "    \n",
    "    Args\n",
    "    ----\n",
    "    x_NF : 2D array, shape (N,F)\n",
    "    w_KF : 2D array, shape (K,F)\n",
    "    m_F : 1D array, shape (F,)\n",
    "    \n",
    "    Returns\n",
    "    -------\n",
    "    z_NK : 2D array, shape (n_examples, n_components) = (N,K)\n",
    "        Each row is a low-dim. \"embedding\" of the corresponding row in x_NF\n",
    "    '''\n",
    "    \n",
    "    # Use the equation defining z in terms of x and m and W\n",
    "    z_NF = np.dot(x_NF - m_F[np.newaxis,:], w_KF.T)\n",
    "    return z_NF"
   ]
  },
  {
   "cell_type": "code",
   "execution_count": 19,
   "metadata": {},
   "outputs": [],
   "source": [
    "z_NK = my_transform(x_NF, w_KF, m_F)"
   ]
  },
  {
   "cell_type": "code",
   "execution_count": 20,
   "metadata": {},
   "outputs": [
    {
     "name": "stdout",
     "output_type": "stream",
     "text": [
      "Shape of z_NK\n",
      "(21, 1)\n",
      "\n",
      "First 5 rows of z_NK\n",
      "[[-6.52423243]\n",
      " [-6.4504965 ]\n",
      " [-5.11980459]\n",
      " [-5.87207543]\n",
      " [-4.10995134]]\n"
     ]
    }
   ],
   "source": [
    "print(\"Shape of z_NK\")\n",
    "print(z_NK.shape)\n",
    "print()\n",
    "print(\"First 5 rows of z_NK\")\n",
    "print(z_NK[:5])"
   ]
  },
  {
   "cell_type": "markdown",
   "metadata": {},
   "source": [
    "## Discussion 1c: Are these z_NK values from `my_transform` the same as produced by `pca.transform`? \n"
   ]
  },
  {
   "cell_type": "code",
   "execution_count": 21,
   "metadata": {},
   "outputs": [],
   "source": [
    "# TODO discuss"
   ]
  },
  {
   "cell_type": "markdown",
   "metadata": {},
   "source": [
    "## Now try with K=2 PCA for our F=2 dataset"
   ]
  },
  {
   "cell_type": "code",
   "execution_count": 22,
   "metadata": {},
   "outputs": [
    {
     "data": {
      "text/plain": [
       "PCA(n_components=2)"
      ]
     },
     "execution_count": 22,
     "metadata": {},
     "output_type": "execute_result"
    }
   ],
   "source": [
    "pca = sklearn.decomposition.PCA(n_components=2)\n",
    "pca.fit(x_NF)"
   ]
  },
  {
   "cell_type": "markdown",
   "metadata": {},
   "source": [
    "Print out the transformed embedding features:"
   ]
  },
  {
   "cell_type": "code",
   "execution_count": 23,
   "metadata": {},
   "outputs": [
    {
     "data": {
      "text/plain": [
       "array([[-6.52423243, -0.66808798],\n",
       "       [-6.4504965 ,  0.0494726 ],\n",
       "       [-5.11980459, -0.6066986 ],\n",
       "       [-5.87207543,  0.78661395],\n",
       "       [-4.10995134, -0.29266499],\n",
       "       [-4.34687772,  0.75715317],\n",
       "       [-2.03157546, -0.90685279],\n",
       "       [-1.97845129, -0.00897906],\n",
       "       [-1.46165685,  0.22647118],\n",
       "       [-1.40616067,  0.5457974 ],\n",
       "       [ 0.62968306, -0.50382783],\n",
       "       [ 0.50286399,  0.16903618],\n",
       "       [ 1.47389739, -0.05406408],\n",
       "       [ 1.19917502,  1.10777136],\n",
       "       [ 2.71280757, -0.13916024],\n",
       "       [ 3.41699812, -0.11644356],\n",
       "       [ 4.09659534, -0.11612761],\n",
       "       [ 5.96711016, -0.78036674],\n",
       "       [ 6.07911096, -0.22292293],\n",
       "       [ 6.14379828,  0.46189491],\n",
       "       [ 7.07924238,  0.31198566]])"
      ]
     },
     "execution_count": 23,
     "metadata": {},
     "output_type": "execute_result"
    }
   ],
   "source": [
    "pca.transform(x_NF)"
   ]
  },
  {
   "cell_type": "markdown",
   "metadata": {},
   "source": [
    "## Discussion 1d: What do you notice about the first column of z here when K=2?\n",
    "\n",
    "How does it compare with the old z?"
   ]
  },
  {
   "cell_type": "code",
   "execution_count": 24,
   "metadata": {},
   "outputs": [],
   "source": [
    "# TODO discuss"
   ]
  },
  {
   "cell_type": "markdown",
   "metadata": {},
   "source": [
    "## Exercise 1e: Show the learned weight vectors\n",
    "\n",
    "Print out the learned weight vectors for K=2 and show your self they are \"unit\" vectors."
   ]
  },
  {
   "cell_type": "code",
   "execution_count": 25,
   "metadata": {},
   "outputs": [],
   "source": [
    "# TODO access and print weights from the `pca` object"
   ]
  },
  {
   "cell_type": "markdown",
   "metadata": {},
   "source": [
    "## Discussion 1f: How do the learned weight vectors for K=2 compare to the old weights for K=1?\n",
    "\n",
    "What is different? What is the same? Do any vectors point in the same direction?"
   ]
  },
  {
   "cell_type": "code",
   "execution_count": 26,
   "metadata": {},
   "outputs": [],
   "source": [
    "# TODO discuss"
   ]
  },
  {
   "cell_type": "markdown",
   "metadata": {},
   "source": [
    "# Part 2: PCA for 8x8 digit images\n",
    "\n",
    "Let us load a dataset of 8x8 pixel images of numerical digits (1, 2, ... 8, 9, 0) that comes from sklearn"
   ]
  },
  {
   "cell_type": "code",
   "execution_count": 27,
   "metadata": {},
   "outputs": [],
   "source": [
    "x_all_LF, y_all_L = sklearn.datasets.load_digits(n_class=10, return_X_y=True)\n",
    "x_all_LF = np.asarray(x_all_LF, dtype=np.float64) / 16.0 # Make each pixel intensity between 0 and 1\n",
    "\n",
    "F = 64 # number of features (flattened 8x8 pixel grayscale image)\n",
    "\n",
    "L = 1797 # all examples\n",
    "N = 1697 # train set size\n",
    "T =  100 # test set size\n",
    "\n",
    "shuffled_rows_L = np.random.RandomState(0).permutation(L)\n",
    "train_rows_N = shuffled_rows_L[:N]\n",
    "test_rows_T = shuffled_rows_L[N:]\n",
    "\n",
    "x_tr_NF = x_all_LF[train_rows_N].copy()\n",
    "y_tr_N = y_all_L[train_rows_N].copy()\n",
    "\n",
    "x_te_TF = x_all_LF[test_rows_T].copy()\n",
    "y_te_T = y_all_L[test_rows_T].copy()"
   ]
  },
  {
   "cell_type": "code",
   "execution_count": 28,
   "metadata": {},
   "outputs": [
    {
     "data": {
      "text/plain": [
       "(1697, 64)"
      ]
     },
     "execution_count": 28,
     "metadata": {},
     "output_type": "execute_result"
    }
   ],
   "source": [
    "x_tr_NF.shape"
   ]
  },
  {
   "cell_type": "code",
   "execution_count": 29,
   "metadata": {},
   "outputs": [
    {
     "data": {
      "text/plain": [
       "(100, 64)"
      ]
     },
     "execution_count": 29,
     "metadata": {},
     "output_type": "execute_result"
    }
   ],
   "source": [
    "x_te_TF.shape"
   ]
  },
  {
   "cell_type": "markdown",
   "metadata": {},
   "source": [
    "## Show the first image in training set"
   ]
  },
  {
   "cell_type": "code",
   "execution_count": 30,
   "metadata": {},
   "outputs": [
    {
     "data": {
      "image/png": "[encoded data removed]",
      "text/plain": [
       "<Figure size 216x216 with 2 Axes>"
      ]
     },
     "metadata": {},
     "output_type": "display_data"
    }
   ],
   "source": [
    "plt.imshow(x_tr_NF[0].reshape((8,8)), interpolation='nearest', vmin=0, vmax=1, cmap='gray')\n",
    "plt.colorbar();\n",
    "plt.gcf().set_size_inches((3,3));"
   ]
  },
  {
   "cell_type": "markdown",
   "metadata": {},
   "source": [
    "## Show fifth row image in training set"
   ]
  },
  {
   "cell_type": "code",
   "execution_count": 31,
   "metadata": {},
   "outputs": [
    {
     "data": {
      "image/png": "[encoded data removed]",
      "text/plain": [
       "<Figure size 216x216 with 2 Axes>"
      ]
     },
     "metadata": {},
     "output_type": "display_data"
    }
   ],
   "source": [
    "plt.imshow(x_tr_NF[4].reshape((8,8)), interpolation='nearest', vmin=0, vmax=1, cmap='gray')\n",
    "plt.colorbar();\n",
    "plt.gcf().set_size_inches((3,3));"
   ]
  },
  {
   "cell_type": "markdown",
   "metadata": {},
   "source": [
    "# Fit PCA with 10 components to this image dataset\n",
    "\n",
    "We'll fit this to the entire training set."
   ]
  },
  {
   "cell_type": "code",
   "execution_count": 32,
   "metadata": {},
   "outputs": [],
   "source": [
    "K = 10"
   ]
  },
  {
   "cell_type": "code",
   "execution_count": 33,
   "metadata": {},
   "outputs": [],
   "source": [
    "digit_pca = sklearn.decomposition.PCA(n_components=K)"
   ]
  },
  {
   "cell_type": "code",
   "execution_count": 34,
   "metadata": {},
   "outputs": [
    {
     "data": {
      "text/plain": [
       "PCA(n_components=10)"
      ]
     },
     "execution_count": 34,
     "metadata": {},
     "output_type": "execute_result"
    }
   ],
   "source": [
    "digit_pca.fit(x_tr_NF)"
   ]
  },
  {
   "cell_type": "markdown",
   "metadata": {},
   "source": [
    "Unpack the mean parameter"
   ]
  },
  {
   "cell_type": "code",
   "execution_count": 35,
   "metadata": {},
   "outputs": [],
   "source": [
    "m_F = digit_pca.mean_"
   ]
  },
  {
   "cell_type": "markdown",
   "metadata": {},
   "source": [
    "Unpack the weights (K x F matrix)"
   ]
  },
  {
   "cell_type": "code",
   "execution_count": 36,
   "metadata": {},
   "outputs": [],
   "source": [
    "w_KF = digit_pca.components_"
   ]
  },
  {
   "cell_type": "code",
   "execution_count": 37,
   "metadata": {},
   "outputs": [
    {
     "data": {
      "text/plain": [
       "(10, 64)"
      ]
     },
     "execution_count": 37,
     "metadata": {},
     "output_type": "execute_result"
    }
   ],
   "source": [
    "w_KF.shape"
   ]
  },
  {
   "cell_type": "markdown",
   "metadata": {},
   "source": [
    "## Show the mean image"
   ]
  },
  {
   "cell_type": "code",
   "execution_count": 38,
   "metadata": {},
   "outputs": [
    {
     "data": {
      "image/png": "[encoded data removed]",
      "text/plain": [
       "<Figure size 216x216 with 2 Axes>"
      ]
     },
     "metadata": {},
     "output_type": "display_data"
    }
   ],
   "source": [
    "plt.imshow(m_F.reshape((8,8)), interpolation='nearest', vmin=0, vmax=1, cmap='gray')\n",
    "plt.colorbar();\n",
    "plt.gcf().set_size_inches((3,3));"
   ]
  },
  {
   "cell_type": "markdown",
   "metadata": {},
   "source": [
    "## Show the weight vectors for the first 10 components (each one reshaped as an image)"
   ]
  },
  {
   "cell_type": "code",
   "execution_count": 39,
   "metadata": {},
   "outputs": [
    {
     "data": {
      "image/png": "[encoded data removed]",
      "text/plain": [
       "<Figure size 720x288 with 11 Axes>"
      ]
     },
     "metadata": {},
     "output_type": "display_data"
    }
   ],
   "source": [
    "W = 2\n",
    "H = 2\n",
    "fig, axgrid = plt.subplots(nrows=2, ncols=5, figsize=(5*W, 2*H))\n",
    "for k in range(10):\n",
    "    cur_ax = axgrid.flatten()[k]\n",
    "    im_handle = cur_ax.imshow(w_KF[k].reshape((8,8)), interpolation='nearest', vmin=-.5, vmax=.5, cmap='RdBu_r')\n",
    "    cur_ax.set_xticks([]);\n",
    "    cur_ax.set_yticks([]);\n",
    "    cur_ax.set_title(\"Comp k=%d\" % (k+1))\n",
    "    if k == K - 1:\n",
    "        plt.colorbar(im_handle, fraction=0.04, shrink=1.0);"
   ]
  },
  {
   "cell_type": "markdown",
   "metadata": {},
   "source": [
    "## Discussion 2a: Are these interpretable? Do you see evidence of the \"digits\" here?\n",
    "\n",
    "Look for evidence of strong vertical lines, or certain holes, etc. What are these components capturing?"
   ]
  },
  {
   "cell_type": "code",
   "execution_count": 40,
   "metadata": {},
   "outputs": [],
   "source": [
    "# TODO discuss"
   ]
  },
  {
   "cell_type": "markdown",
   "metadata": {},
   "source": [
    "## Create reconstructed images"
   ]
  },
  {
   "cell_type": "code",
   "execution_count": 41,
   "metadata": {},
   "outputs": [
    {
     "data": {
      "text/plain": [
       "(1697, 64)"
      ]
     },
     "execution_count": 41,
     "metadata": {},
     "output_type": "execute_result"
    }
   ],
   "source": [
    "x_tr_NF.shape"
   ]
  },
  {
   "cell_type": "code",
   "execution_count": 42,
   "metadata": {},
   "outputs": [],
   "source": [
    "z_tr_NK = my_transform(x_tr_NF, w_KF, m_F)"
   ]
  },
  {
   "cell_type": "code",
   "execution_count": 43,
   "metadata": {},
   "outputs": [
    {
     "data": {
      "text/plain": [
       "(1697, 10)"
      ]
     },
     "execution_count": 43,
     "metadata": {},
     "output_type": "execute_result"
    }
   ],
   "source": [
    "z_tr_NK.shape"
   ]
  },
  {
   "cell_type": "code",
   "execution_count": 44,
   "metadata": {},
   "outputs": [],
   "source": [
    "xhat_tr_NF = np.dot(z_tr_NK, w_KF) + m_F[np.newaxis,:]"
   ]
  },
  {
   "cell_type": "code",
   "execution_count": 45,
   "metadata": {},
   "outputs": [
    {
     "data": {
      "text/plain": [
       "(1697, 64)"
      ]
     },
     "execution_count": 45,
     "metadata": {},
     "output_type": "execute_result"
    }
   ],
   "source": [
    "xhat_tr_NF.shape"
   ]
  },
  {
   "cell_type": "markdown",
   "metadata": {},
   "source": [
    "## Show the original and reconstructed images from training set\n",
    "\n",
    "We'll look at *first five* training examples."
   ]
  },
  {
   "cell_type": "code",
   "execution_count": 46,
   "metadata": {},
   "outputs": [
    {
     "data": {
      "image/png": "[encoded data removed]",
      "text/plain": [
       "<Figure size 720x288 with 11 Axes>"
      ]
     },
     "metadata": {},
     "output_type": "display_data"
    }
   ],
   "source": [
    "row_ids = [0, 1, 2, 3, 4]\n",
    "\n",
    "W = 2\n",
    "H = 2\n",
    "fig, axgrid = plt.subplots(nrows=2, ncols=len(row_ids), figsize=(5*W, 2*H))\n",
    "\n",
    "# Top row: original images (rows of x_tr_NF)\n",
    "for col_id, row_id in enumerate(row_ids):\n",
    "    cur_ax = axgrid.flatten()[col_id]\n",
    "    im_handle = cur_ax.imshow(x_tr_NF[row_id].reshape((8,8)),\n",
    "                              interpolation='nearest', vmin=0.0, vmax=1.0, cmap='gray')\n",
    "    if col_id == 0:\n",
    "        cur_ax.set_ylabel(\"Original Image\")\n",
    "    cur_ax.set_title(\"Im. %d\" % (row_id))\n",
    "    cur_ax.set_xticks([]);\n",
    "    cur_ax.set_yticks([]);\n",
    "\n",
    "\n",
    "\n",
    "# Bottom row: reconstructed images (rows of xhat_tr_NF)\n",
    "\n",
    "for col_id, row_id in enumerate(row_ids):\n",
    "    cur_ax = axgrid[1].flatten()[col_id]\n",
    "    im_handle = cur_ax.imshow(xhat_tr_NF[row_id].reshape((8,8)),\n",
    "                              interpolation='nearest', vmin=0.0, vmax=1.0, cmap='gray')\n",
    "    if col_id == 0:\n",
    "        cur_ax.set_ylabel(\"Reconstruction\\nwith K=10\")\n",
    "    cur_ax.set_xticks([]);\n",
    "    cur_ax.set_yticks([]);\n",
    "plt.colorbar(im_handle, fraction=0.05);\n",
    "plt.tight_layout()\n",
    "\n"
   ]
  },
  {
   "cell_type": "markdown",
   "metadata": {},
   "source": [
    "## Show more original and reconstructed images from training set: All 9s\n",
    "\n",
    "We'll look at *five other* training examples, selected because they are all 9s"
   ]
  },
  {
   "cell_type": "code",
   "execution_count": 47,
   "metadata": {},
   "outputs": [
    {
     "data": {
      "image/png": "[encoded data removed]",
      "text/plain": [
       "<Figure size 720x288 with 11 Axes>"
      ]
     },
     "metadata": {},
     "output_type": "display_data"
    }
   ],
   "source": [
    "row_ids = np.hstack(np.flatnonzero(y_tr_N== 9)[-5:])\n",
    "W = 2\n",
    "H = 2\n",
    "fig, axgrid = plt.subplots(nrows=2, ncols=len(row_ids), figsize=(5*W, 2*H))\n",
    "\n",
    "# Top row: original images (rows of x_tr_NF)\n",
    "for col_id, row_id in enumerate(row_ids):\n",
    "    cur_ax = axgrid.flatten()[col_id]\n",
    "    if col_id == 0:\n",
    "        cur_ax.set_ylabel(\"Original Image\")\n",
    "    cur_ax.set_title(\"Image %d\" % (row_id))\n",
    "    im_handle = cur_ax.imshow(x_tr_NF[row_id].reshape((8,8)),\n",
    "                              interpolation='nearest', vmin=0.0, vmax=1.0, cmap='gray')\n",
    "    cur_ax.set_xticks([]);\n",
    "    cur_ax.set_yticks([]);\n",
    "\n",
    "\n",
    "\n",
    "# Bottom row: reconstructed images (rows of xhat_tr_NF)\n",
    "\n",
    "for col_id, row_id in enumerate(row_ids):\n",
    "    cur_ax = axgrid[1].flatten()[col_id]\n",
    "    if col_id == 0:\n",
    "        cur_ax.set_ylabel(\"Reconstruction\\nwith K=10\")\n",
    "    im_handle = cur_ax.imshow(xhat_tr_NF[row_id].reshape((8,8)),\n",
    "                              interpolation='nearest', vmin=0.0, vmax=1.0, cmap='gray')\n",
    "    cur_ax.set_xticks([]);\n",
    "    cur_ax.set_yticks([]);\n",
    "plt.colorbar(im_handle, fraction=0.05);\n",
    "plt.tight_layout()\n",
    "\n"
   ]
  },
  {
   "cell_type": "markdown",
   "metadata": {},
   "source": [
    "## Discussion 2b: How good are these reconstructions?\n",
    "\n",
    "Across the two plots above, what do you notice?\n",
    "\n",
    "Remember that we are storing only 10 values for each image, not 64, which is a 6x savings!\n",
    "\n",
    "Given that, do you think the reconstructions are pretty good? What visual aspects aren't covered very well?"
   ]
  },
  {
   "cell_type": "markdown",
   "metadata": {},
   "source": [
    "## Exercise 2c: Show reconstructions for the first five *test* examples\n"
   ]
  },
  {
   "cell_type": "markdown",
   "metadata": {},
   "source": [
    "Step 1: Compute the low-dimensional embedding for the test set x_te_TF"
   ]
  },
  {
   "cell_type": "code",
   "execution_count": 48,
   "metadata": {},
   "outputs": [],
   "source": [
    "z_te_TK = None # TODO transform x_te_TF to obtain z_te_TK by calling pca.transform"
   ]
  },
  {
   "cell_type": "code",
   "execution_count": 49,
   "metadata": {},
   "outputs": [],
   "source": [
    "xhat_te_TF = np.zeros((T,F)) # TODO reconstruct the data by multiplying weights times z, plus adding the mean"
   ]
  },
  {
   "cell_type": "code",
   "execution_count": 50,
   "metadata": {},
   "outputs": [
    {
     "data": {
      "image/png": "[encoded data removed]",
      "text/plain": [
       "<Figure size 720x288 with 11 Axes>"
      ]
     },
     "metadata": {},
     "output_type": "display_data"
    }
   ],
   "source": [
    "row_ids = [0, 1, 2, 3, 4] # row ids for our test set\n",
    "W = 2\n",
    "H = 2\n",
    "fig, axgrid = plt.subplots(nrows=2, ncols=len(row_ids), figsize=(5*W, 2*H))\n",
    "\n",
    "# Top row: original images (rows of x_tr_NF)\n",
    "for col_id, row_id in enumerate(row_ids):\n",
    "    cur_ax = axgrid.flatten()[col_id]\n",
    "    if col_id == 0:\n",
    "        cur_ax.set_ylabel(\"Original Image\")\n",
    "    cur_ax.set_title(\"Im. %d\" % (row_id))\n",
    "    im_handle = cur_ax.imshow(x_te_TF[row_id].reshape((8,8)),\n",
    "                              interpolation='nearest', vmin=0.0, vmax=1.0, cmap='gray')\n",
    "    cur_ax.set_xticks([]);\n",
    "    cur_ax.set_yticks([]);\n",
    "\n",
    "\n",
    "\n",
    "# Bottom row: reconstructed images (rows of xhat_tr_NF)\n",
    "for col_id, row_id in enumerate(row_ids):\n",
    "    cur_ax = axgrid[1].flatten()[col_id]\n",
    "    if col_id == 0:\n",
    "        cur_ax.set_ylabel(\"Reconstruction\\nwith K=10\")\n",
    "    im_handle = cur_ax.imshow(xhat_te_TF[row_id].reshape((8,8)),\n",
    "                              interpolation='nearest', vmin=0.0, vmax=1.0, cmap='gray')\n",
    "    cur_ax.set_xticks([]);\n",
    "    cur_ax.set_yticks([]);\n",
    "plt.colorbar(im_handle, fraction=0.05);\n",
    "plt.tight_layout()\n",
    "\n"
   ]
  },
  {
   "cell_type": "markdown",
   "metadata": {},
   "source": [
    "## Discussion 2d: Is the PCA model good at reconstructing the test examples it has never seen before?\n",
    "\n",
    "Why or why not? Do you notice any differences compared to the training data?"
   ]
  },
  {
   "cell_type": "markdown",
   "metadata": {},
   "source": [
    "# Part 3: PCA with ALL components and selecting K"
   ]
  },
  {
   "cell_type": "markdown",
   "metadata": {},
   "source": [
    "## First, fit PCA that learns all possible components\n",
    "\n",
    "Remember that in general, PCA is a *nested* model.\n",
    "\n",
    "The weights for K=5 are just the first 5 rows of the weights for K=6.\n",
    "\n",
    "The weights for K=9 are just the first 9 rows of the weights for K=10 or K=15, etc."
   ]
  },
  {
   "cell_type": "code",
   "execution_count": 51,
   "metadata": {},
   "outputs": [],
   "source": [
    "all_pca = sklearn.decomposition.PCA().fit(x_tr_NF)"
   ]
  },
  {
   "cell_type": "markdown",
   "metadata": {},
   "source": [
    "# Determine how each additional component explains observed variance better"
   ]
  },
  {
   "cell_type": "code",
   "execution_count": 52,
   "metadata": {},
   "outputs": [
    {
     "data": {
      "image/png": "[encoded data removed]",
      "text/plain": [
       "<Figure size 576x396 with 1 Axes>"
      ]
     },
     "metadata": {},
     "output_type": "display_data"
    }
   ],
   "source": [
    "plt.plot(np.cumsum(all_pca.explained_variance_ratio_), 'bs-');\n",
    "plt.xlabel('number of components K');\n",
    "plt.ylabel('fraction of variance explained');"
   ]
  },
  {
   "cell_type": "markdown",
   "metadata": {},
   "source": [
    "## Exercise 3a: What K value will give you at least 80% of the variance? 95%?\n",
    "\n",
    "Specify a concrete K value, by carefully interpreting the plot above.\n",
    "\n",
    "Often, we use these heuristics to choose a K that strikes a balance between \"good\" reconstruction and small size."
   ]
  },
  {
   "cell_type": "code",
   "execution_count": null,
   "metadata": {},
   "outputs": [],
   "source": []
  },
  {
   "cell_type": "markdown",
   "metadata": {},
   "source": [
    "## Exercise 3b: Visualize reconstructions for the first 5 training set images with K=30.\n"
   ]
  },
  {
   "cell_type": "code",
   "execution_count": 53,
   "metadata": {},
   "outputs": [],
   "source": [
    "# TODO compute z"
   ]
  },
  {
   "cell_type": "code",
   "execution_count": 54,
   "metadata": {},
   "outputs": [],
   "source": [
    "# TODO compute xhat given z"
   ]
  },
  {
   "cell_type": "code",
   "execution_count": 55,
   "metadata": {},
   "outputs": [],
   "source": [
    "# TODO make plot of reconstructions xhat"
   ]
  },
  {
   "cell_type": "markdown",
   "metadata": {},
   "source": [
    "## Exercise 3c: Visualize reconstructions for the first 5 *test* set images with K=30.\n"
   ]
  },
  {
   "cell_type": "code",
   "execution_count": 56,
   "metadata": {},
   "outputs": [],
   "source": [
    "# TODO compute z"
   ]
  },
  {
   "cell_type": "code",
   "execution_count": 57,
   "metadata": {},
   "outputs": [],
   "source": [
    "# TODO compute xhat given z"
   ]
  },
  {
   "cell_type": "code",
   "execution_count": 58,
   "metadata": {},
   "outputs": [],
   "source": [
    "# TODO make plot of reconstructions xhat"
   ]
  },
  {
   "cell_type": "code",
   "execution_count": null,
   "metadata": {},
   "outputs": [],
   "source": []
  }
 ],
 "metadata": {
  "kernelspec": {
   "display_name": "Python 3",
   "language": "python",
   "name": "python3"
  },
  "language_info": {
   "codemirror_mode": {
    "name": "ipython",
    "version": 3
   },
   "file_extension": ".py",
   "mimetype": "text/x-python",
   "name": "python",
   "nbconvert_exporter": "python",
   "pygments_lexer": "ipython3",
   "version": "3.6.10"
  }
 },
 "nbformat": 4,
 "nbformat_minor": 2
}
