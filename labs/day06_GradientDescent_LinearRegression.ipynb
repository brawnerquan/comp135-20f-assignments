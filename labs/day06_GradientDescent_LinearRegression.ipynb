{
 "cells": [
  {
   "cell_type": "markdown",
   "metadata": {},
   "source": [
    "# day06: Gradient Descent for Linear Regression\n",
    "\n",
    "# Objectives\n",
    "\n",
    "* Learn how to fit weight parameters of Linear Regression to a simple dataset via gradient descent\n",
    "* Understand impact of step size\n",
    "* Understand impact of initialization\n",
    "\n",
    "\n",
    "# Outline\n",
    "* [Part 1: Loss and Gradient for 1-dim. Linear Regression](#part1)\n",
    "* [Part 2: Gradient Descent Algorithm in a few lines of Python](#part2)\n",
    "* [Part 3: Debugging with Trace Plots](#part3)\n",
    "* [Part 4: Selecting the step size](#part4)\n",
    "* [Part 5: Selecting the initialization](#part5)\n",
    "* [Part 6: Using SciPy's built-in routines](#part6)\n",
    "\n",
    "# Takeaways\n",
    "\n",
    "\n",
    "* Gradient descent is a simple algorithm that can be implemented in a few lines of Python\n",
    "\n",
    "* Step size matters a lot\n",
    "\n",
    "* Initialization of the parameters can matter too!\n",
    "\n",
    "* scipy offers some useful tools for gradient descent\n",
    "* * \"L-BFGS-B\" method is highly recommended if you have your loss and gradient functions available\n",
    "* * Cannot do stochastic minibatches (requires a modest size dataset, not too big)"
   ]
  },
  {
   "cell_type": "code",
   "execution_count": 5,
   "metadata": {},
   "outputs": [],
   "source": [
    "import numpy as np"
   ]
  },
  {
   "cell_type": "code",
   "execution_count": 6,
   "metadata": {},
   "outputs": [],
   "source": [
    "# import plotting libraries\n",
    "import matplotlib\n",
    "import matplotlib.pyplot as plt\n",
    "\n",
    "%matplotlib inline\n",
    "plt.style.use('seaborn') # pretty matplotlib plots\n",
    "\n",
    "import seaborn as sns\n",
    "sns.set('notebook', font_scale=1.25, style='whitegrid')"
   ]
  },
  {
   "cell_type": "markdown",
   "metadata": {},
   "source": [
    "# Create simple dataset:   y = 1.234 * x + noise"
   ]
  },
  {
   "cell_type": "code",
   "execution_count": 7,
   "metadata": {},
   "outputs": [],
   "source": [
    "def create_dataset(N=100, slope=1.234, noise_stddev=0.1, random_state=0):\n",
    "    random_state = np.random.RandomState(int(random_state))\n",
    "\n",
    "    # input features\n",
    "    x_N = np.linspace(-2, 2, N)\n",
    "    \n",
    "    # output features\n",
    "    y_N = slope * x_N + random_state.randn(N) * noise_stddev\n",
    "    \n",
    "    return x_N, y_N"
   ]
  },
  {
   "cell_type": "code",
   "execution_count": 8,
   "metadata": {},
   "outputs": [],
   "source": [
    "x_N, y_N = create_dataset(N=50, noise_stddev=0.3)"
   ]
  },
  {
   "cell_type": "code",
   "execution_count": 10,
   "metadata": {},
   "outputs": [
    {
     "data": {
      "image/png": "[encoded data removed]",
      "text/plain": [
       "<Figure size 360x360 with 1 Axes>"
      ]
     },
     "metadata": {},
     "output_type": "display_data"
    }
   ],
   "source": [
    "fig, ax = plt.subplots(nrows=1, ncols=1, figsize=(5,5))\n",
    "plt.plot(x_N, y_N, 'k.');\n",
    "plt.xlabel('x');\n",
    "plt.ylabel('y');"
   ]
  },
  {
   "cell_type": "markdown",
   "metadata": {},
   "source": [
    "# Part 1: Gradient Descent for 1-dim. Linear Regression"
   ]
  },
  {
   "cell_type": "markdown",
   "metadata": {},
   "source": [
    "## Define model\n",
    "\n",
    "Consider the *simplest* linear regression model. A single weight parameter $w \\in \\mathbb{R}$ representing the slope of the prediction line. No bias/intercept.\n",
    "\n",
    "To make predictions, we just compute the weight multiplied by the input feature\n",
    "$$\n",
    "\\hat{y}(x) = w \\cdot x\n",
    "$$"
   ]
  },
  {
   "cell_type": "markdown",
   "metadata": {},
   "source": [
    "## Define loss function"
   ]
  },
  {
   "cell_type": "markdown",
   "metadata": {},
   "source": [
    "We want to minimize the total *squared error* across all N observed data examples (input features $x_n$, output responses $y_n$)"
   ]
  },
  {
   "cell_type": "markdown",
   "metadata": {},
   "source": [
    "\\begin{align}\n",
    "    \\min_{w \\in \\mathbb{R}} ~~ &\\ell(w)\n",
    "    \\\\\n",
    "    \\ell(w) &= \\sum_{n=1}^N (y_n - w x_n)^2\n",
    "\\end{align}"
   ]
  },
  {
   "cell_type": "code",
   "execution_count": 11,
   "metadata": {},
   "outputs": [],
   "source": [
    "def calc_loss(w):\n",
    "    yhat_N = x_N * w\n",
    "    sum_squared_error = np.sum(np.square(y_N - yhat_N))\n",
    "    return sum_squared_error"
   ]
  },
  {
   "cell_type": "markdown",
   "metadata": {},
   "source": [
    "# Define the gradient function\n",
    "\n",
    "\\begin{align}\n",
    "\\text{calc_grad}(w) = \\ell'(w) &= \\frac{\\partial}{\\partial w} [ \\sum_{n=1}^N (y_n - w x_n)^2] \n",
    "\\\\\n",
    "&= \\sum_{n=1}^N 2 (y_n - w x_n) (-x_n)\n",
    "\\\\\n",
    "&= 2 \\sum_{n=1}^N w x_n^2 - y_n x_n\n",
    "\\end{align}"
   ]
  },
  {
   "cell_type": "code",
   "execution_count": 15,
   "metadata": {},
   "outputs": [],
   "source": [
    "def calc_grad(w):\n",
    "    g = w * np.sum(np.square(x_N)) - np.sum(x_N * y_N)\n",
    "    return g"
   ]
  },
  {
   "cell_type": "markdown",
   "metadata": {},
   "source": [
    "## Plot loss evaluated at each w from -3 to 8"
   ]
  },
  {
   "cell_type": "code",
   "execution_count": 32,
   "metadata": {},
   "outputs": [],
   "source": [
    "w_grid = np.linspace(-3, 8, 300)"
   ]
  },
  {
   "cell_type": "code",
   "execution_count": 34,
   "metadata": {},
   "outputs": [
    {
     "data": {
      "text/plain": [
       "Text(0, 0.5, 'loss(w)')"
      ]
     },
     "execution_count": 34,
     "metadata": {},
     "output_type": "execute_result"
    },
    {
     "data": {
      "image/png": "[encoded data removed]",
      "text/plain": [
       "<Figure size 576x396 with 1 Axes>"
      ]
     },
     "metadata": {},
     "output_type": "display_data"
    }
   ],
   "source": [
    "loss_grid = np.asarray([calc_loss(w) for w in w_grid])\n",
    "plt.plot(w_grid, loss_grid, 'b.-');\n",
    "plt.xlabel('w');\n",
    "plt.ylabel('loss(w)')"
   ]
  },
  {
   "cell_type": "markdown",
   "metadata": {},
   "source": [
    "### Discussion 1a: Visually, at what value of $w$ does the loss function have a minima? Is it near where you would expect (hint: look above for the \"true\" slope value used to generate the data)"
   ]
  },
  {
   "cell_type": "markdown",
   "metadata": {},
   "source": [
    "### Exercise 1b: Write NumPy code to identify which entry in the w_grid array corresponds to the lowest entry in the loss_grid array\n",
    "\n",
    "Hint: use np.argmin"
   ]
  },
  {
   "cell_type": "code",
   "execution_count": 31,
   "metadata": {},
   "outputs": [],
   "source": [
    "# TODO write code here"
   ]
  },
  {
   "cell_type": "markdown",
   "metadata": {},
   "source": [
    "## Sanity check: plot gradient evaluated at each w from -3 to 8"
   ]
  },
  {
   "cell_type": "code",
   "execution_count": 35,
   "metadata": {},
   "outputs": [
    {
     "data": {
      "image/png": "[encoded data removed]",
      "text/plain": [
       "<Figure size 576x396 with 1 Axes>"
      ]
     },
     "metadata": {},
     "output_type": "display_data"
    }
   ],
   "source": [
    "grad_grid = np.asarray([calc_grad(w) for w in w_grid])\n",
    "plt.plot(w_grid, grad_grid, 'b.-');\n",
    "plt.xlabel('w');\n",
    "plt.ylabel('grad(w)');"
   ]
  },
  {
   "cell_type": "markdown",
   "metadata": {},
   "source": [
    "### Discussion 1c: Visually, at what value of $w$ does the gradient function cross zero? Is it the same place as the location of the minimum in the loss above?"
   ]
  },
  {
   "cell_type": "markdown",
   "metadata": {},
   "source": [
    "TODO"
   ]
  },
  {
   "cell_type": "markdown",
   "metadata": {},
   "source": [
    "### Exercise 1d: Numerically, at which value of w does grad_grid cross zero?"
   ]
  },
  {
   "cell_type": "code",
   "execution_count": 36,
   "metadata": {},
   "outputs": [],
   "source": [
    "# TODO compute with w_grid and grad_grid"
   ]
  },
  {
   "cell_type": "code",
   "execution_count": null,
   "metadata": {},
   "outputs": [],
   "source": []
  },
  {
   "cell_type": "markdown",
   "metadata": {},
   "source": [
    "## Part 2: Gradient Descent (GD) as an algorithm in Python\n",
    "\n",
    "\n",
    "### Define minimize_via_grad_descent algorithm\n",
    "\n",
    "Can you understand what each step of this algorithm does?"
   ]
  },
  {
   "cell_type": "code",
   "execution_count": 59,
   "metadata": {},
   "outputs": [],
   "source": [
    "def minimize_via_grad_descent(calc_loss, calc_grad, init_w=0.0, step_size=0.001, max_iters=100):\n",
    "    ''' Perform minimization of provided loss function via gradient descent\n",
    "    \n",
    "    Args\n",
    "    ----\n",
    "    calc_loss : function\n",
    "    calc_grad : function\n",
    "    init_w : float\n",
    "    step_size : float\n",
    "    max_iters : positive int\n",
    "    '''\n",
    "    w = np.asarray(init_w).copy()\n",
    "    grad = calc_grad(w)\n",
    "\n",
    "    # Create some lists to track progress over time (for debugging)\n",
    "    trace_loss_list = []\n",
    "    trace_w_list = []\n",
    "    trace_grad_list = []\n",
    "\n",
    "    for iter_id in range(max_iters):\n",
    "        if iter_id > 0:\n",
    "            w = w - step_size * grad\n",
    "        \n",
    "        loss = calc_loss(w)\n",
    "        grad = calc_grad(w)    \n",
    "\n",
    "        print(\"  iter %5d/%d | loss % 13.4f | w  % 13.5f\" % (iter_id, max_iters, loss, w))\n",
    "    \n",
    "        trace_loss_list.append(loss)\n",
    "        trace_w_list.append(w)\n",
    "        trace_grad_list.append(grad)\n",
    "        \n",
    "    wopt = w\n",
    "    return wopt, dict(trace_loss_list=trace_loss_list, trace_w_list=trace_w_list, trace_grad_list=trace_grad_list)"
   ]
  },
  {
   "cell_type": "markdown",
   "metadata": {},
   "source": [
    "### Discussion 2a: Which line of the above function does the *parameter update* happen?\n",
    "\n",
    "Remember, in math, the parameter update of gradient descent is this:\n",
    "$$\n",
    "w \\gets w - \\epsilon \\nabla_w \\ell(w)\n",
    "$$\n",
    "\n",
    "In other words, move the parameter $w$ from its current value a *small step* in the \"downhill\" direction (indicated by gradient)."
   ]
  },
  {
   "cell_type": "markdown",
   "metadata": {},
   "source": [
    "TODO "
   ]
  },
  {
   "cell_type": "markdown",
   "metadata": {},
   "source": [
    "### Try it! Run GD with step_size = 0.001"
   ]
  },
  {
   "cell_type": "code",
   "execution_count": 55,
   "metadata": {},
   "outputs": [
    {
     "name": "stdout",
     "output_type": "stream",
     "text": [
      "  iter     0/100 | loss       93.3197 | w        0.00000\n",
      "  iter     1/100 | loss       81.4899 | w        0.07828\n",
      "  iter     2/100 | loss       71.2448 | w        0.15113\n",
      "  iter     3/100 | loss       62.3722 | w        0.21892\n",
      "  iter     4/100 | loss       54.6881 | w        0.28201\n",
      "  iter     5/100 | loss       48.0334 | w        0.34072\n",
      "  iter     6/100 | loss       42.2702 | w        0.39535\n",
      "  iter     7/100 | loss       37.2791 | w        0.44620\n",
      "  iter     8/100 | loss       32.9565 | w        0.49352\n",
      "  iter     9/100 | loss       29.2130 | w        0.53755\n",
      "  iter    10/100 | loss       25.9710 | w        0.57853\n",
      "  iter    11/100 | loss       23.1633 | w        0.61666\n",
      "  iter    12/100 | loss       20.7317 | w        0.65215\n",
      "  iter    13/100 | loss       18.6258 | w        0.68518\n",
      "  iter    14/100 | loss       16.8021 | w        0.71592\n",
      "  iter    15/100 | loss       15.2226 | w        0.74452\n",
      "  iter    16/100 | loss       13.8548 | w        0.77114\n",
      "  iter    17/100 | loss       12.6702 | w        0.79591\n",
      "  iter    18/100 | loss       11.6442 | w        0.81896\n",
      "  iter    19/100 | loss       10.7557 | w        0.84041\n",
      "  iter    20/100 | loss        9.9863 | w        0.86038\n",
      "  iter    21/100 | loss        9.3199 | w        0.87895\n",
      "  iter    22/100 | loss        8.7428 | w        0.89624\n",
      "  iter    23/100 | loss        8.2430 | w        0.91233\n",
      "  iter    24/100 | loss        7.8101 | w        0.92731\n",
      "  iter    25/100 | loss        7.4352 | w        0.94124\n",
      "  iter    26/100 | loss        7.1106 | w        0.95421\n",
      "  iter    27/100 | loss        6.8294 | w        0.96628\n",
      "  iter    28/100 | loss        6.5859 | w        0.97751\n",
      "  iter    29/100 | loss        6.3750 | w        0.98796\n",
      "  iter    30/100 | loss        6.1924 | w        0.99769\n",
      "  iter    31/100 | loss        6.0343 | w        1.00674\n",
      "  iter    32/100 | loss        5.8973 | w        1.01516\n",
      "  iter    33/100 | loss        5.7787 | w        1.02300\n",
      "  iter    34/100 | loss        5.6759 | w        1.03029\n",
      "  iter    35/100 | loss        5.5870 | w        1.03708\n",
      "  iter    36/100 | loss        5.5099 | w        1.04340\n",
      "  iter    37/100 | loss        5.4432 | w        1.04928\n",
      "  iter    38/100 | loss        5.3854 | w        1.05475\n",
      "  iter    39/100 | loss        5.3353 | w        1.05984\n",
      "  iter    40/100 | loss        5.2920 | w        1.06458\n",
      "  iter    41/100 | loss        5.2544 | w        1.06899\n",
      "  iter    42/100 | loss        5.2219 | w        1.07309\n",
      "  iter    43/100 | loss        5.1938 | w        1.07691\n",
      "  iter    44/100 | loss        5.1694 | w        1.08047\n",
      "  iter    45/100 | loss        5.1483 | w        1.08377\n",
      "  iter    46/100 | loss        5.1300 | w        1.08685\n",
      "  iter    47/100 | loss        5.1142 | w        1.08971\n",
      "  iter    48/100 | loss        5.1004 | w        1.09238\n",
      "  iter    49/100 | loss        5.0886 | w        1.09486\n",
      "  iter    50/100 | loss        5.0783 | w        1.09717\n",
      "  iter    51/100 | loss        5.0694 | w        1.09932\n",
      "  iter    52/100 | loss        5.0616 | w        1.10132\n",
      "  iter    53/100 | loss        5.0550 | w        1.10318\n",
      "  iter    54/100 | loss        5.0492 | w        1.10491\n",
      "  iter    55/100 | loss        5.0442 | w        1.10652\n",
      "  iter    56/100 | loss        5.0398 | w        1.10802\n",
      "  iter    57/100 | loss        5.0361 | w        1.10941\n",
      "  iter    58/100 | loss        5.0328 | w        1.11071\n",
      "  iter    59/100 | loss        5.0300 | w        1.11192\n",
      "  iter    60/100 | loss        5.0275 | w        1.11305\n",
      "  iter    61/100 | loss        5.0254 | w        1.11409\n",
      "  iter    62/100 | loss        5.0236 | w        1.11507\n",
      "  iter    63/100 | loss        5.0220 | w        1.11597\n",
      "  iter    64/100 | loss        5.0206 | w        1.11682\n",
      "  iter    65/100 | loss        5.0195 | w        1.11760\n",
      "  iter    66/100 | loss        5.0184 | w        1.11833\n",
      "  iter    67/100 | loss        5.0175 | w        1.11901\n",
      "  iter    68/100 | loss        5.0168 | w        1.11964\n",
      "  iter    69/100 | loss        5.0161 | w        1.12023\n",
      "  iter    70/100 | loss        5.0155 | w        1.12078\n",
      "  iter    71/100 | loss        5.0150 | w        1.12129\n",
      "  iter    72/100 | loss        5.0146 | w        1.12176\n",
      "  iter    73/100 | loss        5.0142 | w        1.12221\n",
      "  iter    74/100 | loss        5.0139 | w        1.12262\n",
      "  iter    75/100 | loss        5.0136 | w        1.12300\n",
      "  iter    76/100 | loss        5.0133 | w        1.12336\n",
      "  iter    77/100 | loss        5.0131 | w        1.12369\n",
      "  iter    78/100 | loss        5.0129 | w        1.12399\n",
      "  iter    79/100 | loss        5.0128 | w        1.12428\n",
      "  iter    80/100 | loss        5.0126 | w        1.12455\n",
      "  iter    81/100 | loss        5.0125 | w        1.12480\n",
      "  iter    82/100 | loss        5.0124 | w        1.12503\n",
      "  iter    83/100 | loss        5.0123 | w        1.12524\n",
      "  iter    84/100 | loss        5.0123 | w        1.12544\n",
      "  iter    85/100 | loss        5.0122 | w        1.12563\n",
      "  iter    86/100 | loss        5.0121 | w        1.12580\n",
      "  iter    87/100 | loss        5.0121 | w        1.12596\n",
      "  iter    88/100 | loss        5.0120 | w        1.12611\n",
      "  iter    89/100 | loss        5.0120 | w        1.12625\n",
      "  iter    90/100 | loss        5.0120 | w        1.12638\n",
      "  iter    91/100 | loss        5.0119 | w        1.12651\n",
      "  iter    92/100 | loss        5.0119 | w        1.12662\n",
      "  iter    93/100 | loss        5.0119 | w        1.12672\n",
      "  iter    94/100 | loss        5.0119 | w        1.12682\n",
      "  iter    95/100 | loss        5.0119 | w        1.12691\n",
      "  iter    96/100 | loss        5.0118 | w        1.12700\n",
      "  iter    97/100 | loss        5.0118 | w        1.12707\n",
      "  iter    98/100 | loss        5.0118 | w        1.12715\n",
      "  iter    99/100 | loss        5.0118 | w        1.12722\n"
     ]
    }
   ],
   "source": [
    "wopt, info_dict = minimize_via_grad_descent(calc_loss, calc_grad, step_size=0.001);"
   ]
  },
  {
   "cell_type": "markdown",
   "metadata": {},
   "source": [
    "### Discussion 2b: Does it appear from the *loss* values in trace above that the GD procedure converged?"
   ]
  },
  {
   "cell_type": "markdown",
   "metadata": {},
   "source": [
    "### Discussion 2c: Does it appear from the *parameter* values in trace above that the GD procedure converged?"
   ]
  },
  {
   "cell_type": "markdown",
   "metadata": {},
   "source": [
    "## Part 3: Diagnostic plots for gradient descent"
   ]
  },
  {
   "cell_type": "markdown",
   "metadata": {},
   "source": [
    "Let's look at some trace functions.\n",
    "\n",
    "Whenever you run gradient descent, an *excellent* debugging strategy is the ability to plot the loss, the gradient magnitude, and the parameter of interest at every step of the algorithm."
   ]
  },
  {
   "cell_type": "code",
   "execution_count": 57,
   "metadata": {},
   "outputs": [
    {
     "data": {
      "image/png": "[encoded data removed]",
      "text/plain": [
       "<Figure size 1296x259.2 with 3 Axes>"
      ]
     },
     "metadata": {},
     "output_type": "display_data"
    }
   ],
   "source": [
    "fig, axes = plt.subplots(nrows=1, ncols=3, sharex=True, sharey=False, figsize=(18,3.6))\n",
    "\n",
    "axes[0].plot(info_dict['trace_loss_list']);\n",
    "axes[0].set_title('loss');\n",
    "axes[1].plot(info_dict['trace_grad_list']);\n",
    "axes[1].set_title('grad');\n",
    "axes[2].plot(info_dict['trace_w_list']);\n",
    "axes[2].set_title('w');\n",
    "\n",
    "plt.xlim([0, 100]);"
   ]
  },
  {
   "cell_type": "markdown",
   "metadata": {},
   "source": [
    "### Discussion 3a: What value do we expect the *loss* to converge to? Should it always be zero?"
   ]
  },
  {
   "cell_type": "markdown",
   "metadata": {},
   "source": [
    "### Discussion 3b: What value do we expect the *gradient* to converge to? Should it always be zero?"
   ]
  },
  {
   "cell_type": "markdown",
   "metadata": {},
   "source": [
    "# Part 4: Larger step sizes\n",
    "\n",
    "## Try with larger step_size = 0.02"
   ]
  },
  {
   "cell_type": "code",
   "execution_count": 60,
   "metadata": {},
   "outputs": [
    {
     "name": "stdout",
     "output_type": "stream",
     "text": [
      "  iter     0/100 | loss       93.3197 | w        0.00000\n",
      "  iter     1/100 | loss       18.2892 | w        1.56557\n",
      "  iter     2/100 | loss        7.0081 | w        0.95851\n",
      "  iter     3/100 | loss        5.3119 | w        1.19390\n",
      "  iter     4/100 | loss        5.0569 | w        1.10263\n",
      "  iter     5/100 | loss        5.0185 | w        1.13802\n",
      "  iter     6/100 | loss        5.0128 | w        1.12429\n",
      "  iter     7/100 | loss        5.0119 | w        1.12962\n",
      "  iter     8/100 | loss        5.0118 | w        1.12755\n",
      "  iter     9/100 | loss        5.0118 | w        1.12835\n",
      "  iter    10/100 | loss        5.0118 | w        1.12804\n",
      "  iter    11/100 | loss        5.0118 | w        1.12816\n",
      "  iter    12/100 | loss        5.0118 | w        1.12812\n",
      "  iter    13/100 | loss        5.0118 | w        1.12813\n",
      "  iter    14/100 | loss        5.0118 | w        1.12813\n",
      "  iter    15/100 | loss        5.0118 | w        1.12813\n",
      "  iter    16/100 | loss        5.0118 | w        1.12813\n",
      "  iter    17/100 | loss        5.0118 | w        1.12813\n",
      "  iter    18/100 | loss        5.0118 | w        1.12813\n",
      "  iter    19/100 | loss        5.0118 | w        1.12813\n",
      "  iter    20/100 | loss        5.0118 | w        1.12813\n",
      "  iter    21/100 | loss        5.0118 | w        1.12813\n",
      "  iter    22/100 | loss        5.0118 | w        1.12813\n",
      "  iter    23/100 | loss        5.0118 | w        1.12813\n",
      "  iter    24/100 | loss        5.0118 | w        1.12813\n",
      "  iter    25/100 | loss        5.0118 | w        1.12813\n",
      "  iter    26/100 | loss        5.0118 | w        1.12813\n",
      "  iter    27/100 | loss        5.0118 | w        1.12813\n",
      "  iter    28/100 | loss        5.0118 | w        1.12813\n",
      "  iter    29/100 | loss        5.0118 | w        1.12813\n",
      "  iter    30/100 | loss        5.0118 | w        1.12813\n",
      "  iter    31/100 | loss        5.0118 | w        1.12813\n",
      "  iter    32/100 | loss        5.0118 | w        1.12813\n",
      "  iter    33/100 | loss        5.0118 | w        1.12813\n",
      "  iter    34/100 | loss        5.0118 | w        1.12813\n",
      "  iter    35/100 | loss        5.0118 | w        1.12813\n",
      "  iter    36/100 | loss        5.0118 | w        1.12813\n",
      "  iter    37/100 | loss        5.0118 | w        1.12813\n",
      "  iter    38/100 | loss        5.0118 | w        1.12813\n",
      "  iter    39/100 | loss        5.0118 | w        1.12813\n",
      "  iter    40/100 | loss        5.0118 | w        1.12813\n",
      "  iter    41/100 | loss        5.0118 | w        1.12813\n",
      "  iter    42/100 | loss        5.0118 | w        1.12813\n",
      "  iter    43/100 | loss        5.0118 | w        1.12813\n",
      "  iter    44/100 | loss        5.0118 | w        1.12813\n",
      "  iter    45/100 | loss        5.0118 | w        1.12813\n",
      "  iter    46/100 | loss        5.0118 | w        1.12813\n",
      "  iter    47/100 | loss        5.0118 | w        1.12813\n",
      "  iter    48/100 | loss        5.0118 | w        1.12813\n",
      "  iter    49/100 | loss        5.0118 | w        1.12813\n",
      "  iter    50/100 | loss        5.0118 | w        1.12813\n",
      "  iter    51/100 | loss        5.0118 | w        1.12813\n",
      "  iter    52/100 | loss        5.0118 | w        1.12813\n",
      "  iter    53/100 | loss        5.0118 | w        1.12813\n",
      "  iter    54/100 | loss        5.0118 | w        1.12813\n",
      "  iter    55/100 | loss        5.0118 | w        1.12813\n",
      "  iter    56/100 | loss        5.0118 | w        1.12813\n",
      "  iter    57/100 | loss        5.0118 | w        1.12813\n",
      "  iter    58/100 | loss        5.0118 | w        1.12813\n",
      "  iter    59/100 | loss        5.0118 | w        1.12813\n",
      "  iter    60/100 | loss        5.0118 | w        1.12813\n",
      "  iter    61/100 | loss        5.0118 | w        1.12813\n",
      "  iter    62/100 | loss        5.0118 | w        1.12813\n",
      "  iter    63/100 | loss        5.0118 | w        1.12813\n",
      "  iter    64/100 | loss        5.0118 | w        1.12813\n",
      "  iter    65/100 | loss        5.0118 | w        1.12813\n",
      "  iter    66/100 | loss        5.0118 | w        1.12813\n",
      "  iter    67/100 | loss        5.0118 | w        1.12813\n",
      "  iter    68/100 | loss        5.0118 | w        1.12813\n",
      "  iter    69/100 | loss        5.0118 | w        1.12813\n",
      "  iter    70/100 | loss        5.0118 | w        1.12813\n",
      "  iter    71/100 | loss        5.0118 | w        1.12813\n",
      "  iter    72/100 | loss        5.0118 | w        1.12813\n",
      "  iter    73/100 | loss        5.0118 | w        1.12813\n",
      "  iter    74/100 | loss        5.0118 | w        1.12813\n",
      "  iter    75/100 | loss        5.0118 | w        1.12813\n",
      "  iter    76/100 | loss        5.0118 | w        1.12813\n",
      "  iter    77/100 | loss        5.0118 | w        1.12813\n",
      "  iter    78/100 | loss        5.0118 | w        1.12813\n",
      "  iter    79/100 | loss        5.0118 | w        1.12813\n",
      "  iter    80/100 | loss        5.0118 | w        1.12813\n",
      "  iter    81/100 | loss        5.0118 | w        1.12813\n",
      "  iter    82/100 | loss        5.0118 | w        1.12813\n",
      "  iter    83/100 | loss        5.0118 | w        1.12813\n",
      "  iter    84/100 | loss        5.0118 | w        1.12813\n",
      "  iter    85/100 | loss        5.0118 | w        1.12813\n",
      "  iter    86/100 | loss        5.0118 | w        1.12813\n",
      "  iter    87/100 | loss        5.0118 | w        1.12813\n",
      "  iter    88/100 | loss        5.0118 | w        1.12813\n",
      "  iter    89/100 | loss        5.0118 | w        1.12813\n",
      "  iter    90/100 | loss        5.0118 | w        1.12813\n",
      "  iter    91/100 | loss        5.0118 | w        1.12813\n",
      "  iter    92/100 | loss        5.0118 | w        1.12813\n",
      "  iter    93/100 | loss        5.0118 | w        1.12813\n",
      "  iter    94/100 | loss        5.0118 | w        1.12813\n",
      "  iter    95/100 | loss        5.0118 | w        1.12813\n",
      "  iter    96/100 | loss        5.0118 | w        1.12813\n",
      "  iter    97/100 | loss        5.0118 | w        1.12813\n",
      "  iter    98/100 | loss        5.0118 | w        1.12813\n",
      "  iter    99/100 | loss        5.0118 | w        1.12813\n"
     ]
    }
   ],
   "source": [
    "wopt, info_dict = minimize_via_grad_descent(calc_loss, calc_grad, step_size=0.02);"
   ]
  },
  {
   "cell_type": "code",
   "execution_count": 61,
   "metadata": {},
   "outputs": [
    {
     "data": {
      "image/png": "[encoded data removed]",
      "text/plain": [
       "<Figure size 864x216 with 3 Axes>"
      ]
     },
     "metadata": {},
     "output_type": "display_data"
    }
   ],
   "source": [
    "fig, axes = plt.subplots(nrows=1, ncols=3, sharex=True, sharey=False, figsize=(12,3))\n",
    "\n",
    "axes[0].plot(info_dict['trace_loss_list'], '.-');\n",
    "axes[0].set_title('loss');\n",
    "axes[1].plot(info_dict['trace_grad_list'], '.-');\n",
    "axes[1].set_title('grad');\n",
    "axes[2].plot(info_dict['trace_w_list'], '.-');\n",
    "axes[2].set_title('w');\n",
    "\n",
    "plt.xlim([0, 30]);"
   ]
  },
  {
   "cell_type": "markdown",
   "metadata": {},
   "source": [
    "## Try with even larger step size 0.1"
   ]
  },
  {
   "cell_type": "code",
   "execution_count": 51,
   "metadata": {},
   "outputs": [
    {
     "name": "stdout",
     "output_type": "stream",
     "text": [
      "  iter     0/10 | loss       93.3197 | w        0.00000\n",
      "  iter     1/10 | loss     3119.5499 | w        7.82783\n",
      "  iter     2/10 | loss   109851.8272 | w      -38.65989\n",
      "  iter     3/10 | loss  3874198.3388 | w      237.42024\n",
      "  iter     4/10 | loss  136639140.8422 | w    -1402.15769\n",
      "  iter     5/10 | loss  4819133141.7277 | w     8334.92755\n",
      "  iter     6/10 | loss  169966269538.6396 | w   -49491.43580\n",
      "  iter     7/10 | loss  5994549633648.1299 | w   293926.35474\n",
      "  iter     8/10 | loss  211422098095187.4062 | w  -1745554.80949\n",
      "  iter     9/10 | loss  7456657513035461.0000 | w   10366465.98218\n"
     ]
    }
   ],
   "source": [
    "wopt, info_dict = minimize_via_grad_descent(calc_loss, calc_grad, step_size=0.1, max_iters=10);"
   ]
  },
  {
   "cell_type": "markdown",
   "metadata": {},
   "source": [
    "### Discussion 3b: What happens here with step size 0.1?"
   ]
  },
  {
   "cell_type": "markdown",
   "metadata": {},
   "source": [
    "### Exercise 3c: What is the largest step size you can get to converge reasonably?"
   ]
  },
  {
   "cell_type": "code",
   "execution_count": 62,
   "metadata": {},
   "outputs": [
    {
     "name": "stdout",
     "output_type": "stream",
     "text": [
      "  iter     0/100 | loss       93.3197 | w        0.00000\n",
      "  iter     1/100 | loss       93.3197 | w        0.00000\n",
      "  iter     2/100 | loss       93.3197 | w        0.00000\n",
      "  iter     3/100 | loss       93.3197 | w        0.00000\n",
      "  iter     4/100 | loss       93.3197 | w        0.00000\n",
      "  iter     5/100 | loss       93.3197 | w        0.00000\n",
      "  iter     6/100 | loss       93.3197 | w        0.00000\n",
      "  iter     7/100 | loss       93.3197 | w        0.00000\n",
      "  iter     8/100 | loss       93.3197 | w        0.00000\n",
      "  iter     9/100 | loss       93.3197 | w        0.00000\n",
      "  iter    10/100 | loss       93.3197 | w        0.00000\n",
      "  iter    11/100 | loss       93.3197 | w        0.00000\n",
      "  iter    12/100 | loss       93.3197 | w        0.00000\n",
      "  iter    13/100 | loss       93.3197 | w        0.00000\n",
      "  iter    14/100 | loss       93.3197 | w        0.00000\n",
      "  iter    15/100 | loss       93.3197 | w        0.00000\n",
      "  iter    16/100 | loss       93.3197 | w        0.00000\n",
      "  iter    17/100 | loss       93.3197 | w        0.00000\n",
      "  iter    18/100 | loss       93.3197 | w        0.00000\n",
      "  iter    19/100 | loss       93.3197 | w        0.00000\n",
      "  iter    20/100 | loss       93.3197 | w        0.00000\n",
      "  iter    21/100 | loss       93.3197 | w        0.00000\n",
      "  iter    22/100 | loss       93.3197 | w        0.00000\n",
      "  iter    23/100 | loss       93.3197 | w        0.00000\n",
      "  iter    24/100 | loss       93.3197 | w        0.00000\n",
      "  iter    25/100 | loss       93.3197 | w        0.00000\n",
      "  iter    26/100 | loss       93.3197 | w        0.00000\n",
      "  iter    27/100 | loss       93.3197 | w        0.00000\n",
      "  iter    28/100 | loss       93.3197 | w        0.00000\n",
      "  iter    29/100 | loss       93.3197 | w        0.00000\n",
      "  iter    30/100 | loss       93.3197 | w        0.00000\n",
      "  iter    31/100 | loss       93.3197 | w        0.00000\n",
      "  iter    32/100 | loss       93.3197 | w        0.00000\n",
      "  iter    33/100 | loss       93.3197 | w        0.00000\n",
      "  iter    34/100 | loss       93.3197 | w        0.00000\n",
      "  iter    35/100 | loss       93.3197 | w        0.00000\n",
      "  iter    36/100 | loss       93.3197 | w        0.00000\n",
      "  iter    37/100 | loss       93.3197 | w        0.00000\n",
      "  iter    38/100 | loss       93.3197 | w        0.00000\n",
      "  iter    39/100 | loss       93.3197 | w        0.00000\n",
      "  iter    40/100 | loss       93.3197 | w        0.00000\n",
      "  iter    41/100 | loss       93.3197 | w        0.00000\n",
      "  iter    42/100 | loss       93.3197 | w        0.00000\n",
      "  iter    43/100 | loss       93.3197 | w        0.00000\n",
      "  iter    44/100 | loss       93.3197 | w        0.00000\n",
      "  iter    45/100 | loss       93.3197 | w        0.00000\n",
      "  iter    46/100 | loss       93.3197 | w        0.00000\n",
      "  iter    47/100 | loss       93.3197 | w        0.00000\n",
      "  iter    48/100 | loss       93.3197 | w        0.00000\n",
      "  iter    49/100 | loss       93.3197 | w        0.00000\n",
      "  iter    50/100 | loss       93.3197 | w        0.00000\n",
      "  iter    51/100 | loss       93.3197 | w        0.00000\n",
      "  iter    52/100 | loss       93.3197 | w        0.00000\n",
      "  iter    53/100 | loss       93.3197 | w        0.00000\n",
      "  iter    54/100 | loss       93.3197 | w        0.00000\n",
      "  iter    55/100 | loss       93.3197 | w        0.00000\n",
      "  iter    56/100 | loss       93.3197 | w        0.00000\n",
      "  iter    57/100 | loss       93.3197 | w        0.00000\n",
      "  iter    58/100 | loss       93.3197 | w        0.00000\n",
      "  iter    59/100 | loss       93.3197 | w        0.00000\n",
      "  iter    60/100 | loss       93.3197 | w        0.00000\n",
      "  iter    61/100 | loss       93.3197 | w        0.00000\n",
      "  iter    62/100 | loss       93.3197 | w        0.00000\n",
      "  iter    63/100 | loss       93.3197 | w        0.00000\n",
      "  iter    64/100 | loss       93.3197 | w        0.00000\n",
      "  iter    65/100 | loss       93.3197 | w        0.00000\n",
      "  iter    66/100 | loss       93.3197 | w        0.00000\n",
      "  iter    67/100 | loss       93.3197 | w        0.00000\n",
      "  iter    68/100 | loss       93.3197 | w        0.00000\n",
      "  iter    69/100 | loss       93.3197 | w        0.00000\n",
      "  iter    70/100 | loss       93.3197 | w        0.00000\n",
      "  iter    71/100 | loss       93.3197 | w        0.00000\n",
      "  iter    72/100 | loss       93.3197 | w        0.00000\n",
      "  iter    73/100 | loss       93.3197 | w        0.00000\n",
      "  iter    74/100 | loss       93.3197 | w        0.00000\n",
      "  iter    75/100 | loss       93.3197 | w        0.00000\n",
      "  iter    76/100 | loss       93.3197 | w        0.00000\n",
      "  iter    77/100 | loss       93.3197 | w        0.00000\n",
      "  iter    78/100 | loss       93.3197 | w        0.00000\n",
      "  iter    79/100 | loss       93.3197 | w        0.00000\n",
      "  iter    80/100 | loss       93.3197 | w        0.00000\n",
      "  iter    81/100 | loss       93.3197 | w        0.00000\n",
      "  iter    82/100 | loss       93.3197 | w        0.00000\n",
      "  iter    83/100 | loss       93.3197 | w        0.00000\n",
      "  iter    84/100 | loss       93.3197 | w        0.00000\n",
      "  iter    85/100 | loss       93.3197 | w        0.00000\n",
      "  iter    86/100 | loss       93.3197 | w        0.00000\n",
      "  iter    87/100 | loss       93.3197 | w        0.00000\n",
      "  iter    88/100 | loss       93.3197 | w        0.00000\n",
      "  iter    89/100 | loss       93.3197 | w        0.00000\n",
      "  iter    90/100 | loss       93.3197 | w        0.00000\n",
      "  iter    91/100 | loss       93.3197 | w        0.00000\n",
      "  iter    92/100 | loss       93.3197 | w        0.00000\n",
      "  iter    93/100 | loss       93.3197 | w        0.00000\n",
      "  iter    94/100 | loss       93.3197 | w        0.00000\n",
      "  iter    95/100 | loss       93.3197 | w        0.00000\n",
      "  iter    96/100 | loss       93.3197 | w        0.00000\n",
      "  iter    97/100 | loss       93.3197 | w        0.00000\n",
      "  iter    98/100 | loss       93.3197 | w        0.00000\n",
      "  iter    99/100 | loss       93.3197 | w        0.00000\n"
     ]
    }
   ],
   "source": [
    "# TODO try some other step sizes here\n",
    "wopt, info_dict = minimize_via_grad_descent(calc_loss, calc_grad, step_size=0) # TODO fix step_size"
   ]
  },
  {
   "cell_type": "markdown",
   "metadata": {},
   "source": [
    "# Part 5: Sensitivity to initial conditions\n",
    "\n"
   ]
  },
  {
   "cell_type": "markdown",
   "metadata": {},
   "source": [
    "### Exercise 5a: Try to call the defined procedure with a different initial condition for $w$. What happens?\n",
    "\n",
    "You could try $w = 5.0$ or something else."
   ]
  },
  {
   "cell_type": "markdown",
   "metadata": {},
   "source": [
    "### Exercise 5b: Try again with another value. Make a trace plot showing convergence from multiple different starting values for $w$. What do you notice?"
   ]
  },
  {
   "cell_type": "markdown",
   "metadata": {},
   "source": [
    "# Part 6: Using scipy's built-in gradient optimization tools\n"
   ]
  },
  {
   "cell_type": "code",
   "execution_count": 63,
   "metadata": {},
   "outputs": [],
   "source": [
    "import scipy.optimize"
   ]
  },
  {
   "cell_type": "markdown",
   "metadata": {},
   "source": [
    "Take a look at SciPy's built in minimization toolbox\n",
    "\n",
    "<https://docs.scipy.org/doc/scipy/reference/generated/scipy.optimize.minimize.html#scipy.optimize.minimize>\n",
    "\n",
    "We'll use \"L-BFGS\", a second-order method that uses the function and its gradient."
   ]
  },
  {
   "cell_type": "code",
   "execution_count": 71,
   "metadata": {},
   "outputs": [
    {
     "name": "stdout",
     "output_type": "stream",
     "text": [
      "      fun: 5.01175994382598\n",
      " hess_inv: <1x1 LbfgsInvHessProduct with dtype=float64>\n",
      "      jac: array([1.42108547e-14])\n",
      "  message: b'CONVERGENCE: NORM_OF_PROJECTED_GRADIENT_<=_PGTOL'\n",
      "     nfev: 3\n",
      "      nit: 2\n",
      "     njev: 3\n",
      "   status: 0\n",
      "  success: True\n",
      "        x: array([1.12812831])\n"
     ]
    }
   ],
   "source": [
    "result = scipy.optimize.minimize(calc_loss, 0.0, jac=calc_grad, method='L-BFGS-B')\n",
    "\n",
    "print(result)"
   ]
  },
  {
   "cell_type": "code",
   "execution_count": 72,
   "metadata": {},
   "outputs": [
    {
     "name": "stdout",
     "output_type": "stream",
     "text": [
      "[1.12812831]\n"
     ]
    }
   ],
   "source": [
    "best_w = result.x\n",
    "print(best_w)"
   ]
  },
  {
   "cell_type": "code",
   "execution_count": null,
   "metadata": {},
   "outputs": [],
   "source": []
  }
 ],
 "metadata": {
  "kernelspec": {
   "display_name": "Python 3",
   "language": "python",
   "name": "python3"
  },
  "language_info": {
   "codemirror_mode": {
    "name": "ipython",
    "version": 3
   },
   "file_extension": ".py",
   "mimetype": "text/x-python",
   "name": "python",
   "nbconvert_exporter": "python",
   "pygments_lexer": "ipython3",
   "version": "3.6.10"
  }
 },
 "nbformat": 4,
 "nbformat_minor": 2
}
